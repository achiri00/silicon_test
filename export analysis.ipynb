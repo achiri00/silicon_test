{
 "cells": [
  {
   "cell_type": "code",
   "execution_count": 21,
   "metadata": {
    "tags": []
   },
   "outputs": [],
   "source": [
    "import pandas as pd\n",
    "import numpy as np\n",
    "import matplotlib.pyplot as plt\n",
    "import seaborn as sn"
   ]
  },
  {
   "cell_type": "code",
   "execution_count": 22,
   "metadata": {
    "tags": []
   },
   "outputs": [],
   "source": [
    "imp4 = pd.read_csv('top imports 2014.csv')"
   ]
  },
  {
   "cell_type": "code",
   "execution_count": 23,
   "metadata": {
    "tags": []
   },
   "outputs": [
    {
     "data": {
      "text/html": [
       "<div>\n",
       "<style scoped>\n",
       "    .dataframe tbody tr th:only-of-type {\n",
       "        vertical-align: middle;\n",
       "    }\n",
       "\n",
       "    .dataframe tbody tr th {\n",
       "        vertical-align: top;\n",
       "    }\n",
       "\n",
       "    .dataframe thead th {\n",
       "        text-align: right;\n",
       "    }\n",
       "</style>\n",
       "<table border=\"1\" class=\"dataframe\">\n",
       "  <thead>\n",
       "    <tr style=\"text-align: right;\">\n",
       "      <th></th>\n",
       "      <th>TRADE IMPORT FOR 2014</th>\n",
       "      <th>Unnamed: 1</th>\n",
       "      <th>Unnamed: 2</th>\n",
       "      <th>Unnamed: 3</th>\n",
       "    </tr>\n",
       "  </thead>\n",
       "  <tbody>\n",
       "    <tr>\n",
       "      <th>0</th>\n",
       "      <td>HS CODE</td>\n",
       "      <td>ITEM DESCRIPTION</td>\n",
       "      <td>CUSTOM VALUE (GHS)</td>\n",
       "      <td>NETWEIGHT (KGs)</td>\n",
       "    </tr>\n",
       "    <tr>\n",
       "      <th>1</th>\n",
       "      <td>2523100000</td>\n",
       "      <td>Cement clinkers</td>\n",
       "      <td>1646138259</td>\n",
       "      <td>3866159818</td>\n",
       "    </tr>\n",
       "    <tr>\n",
       "      <th>2</th>\n",
       "      <td>8705900010</td>\n",
       "      <td>Other special purpose motor vehicle, nes, new</td>\n",
       "      <td>1199512148</td>\n",
       "      <td>737438.61</td>\n",
       "    </tr>\n",
       "    <tr>\n",
       "      <th>3</th>\n",
       "      <td>2709000000</td>\n",
       "      <td>Petroleum oils and oils obtained from bitum...</td>\n",
       "      <td>1149418088</td>\n",
       "      <td>3857276.603</td>\n",
       "    </tr>\n",
       "    <tr>\n",
       "      <th>4</th>\n",
       "      <td>8502399000</td>\n",
       "      <td>Other generating sets : Other: Other</td>\n",
       "      <td>907226467.7</td>\n",
       "      <td>13009081.13</td>\n",
       "    </tr>\n",
       "    <tr>\n",
       "      <th>...</th>\n",
       "      <td>...</td>\n",
       "      <td>...</td>\n",
       "      <td>...</td>\n",
       "      <td>...</td>\n",
       "    </tr>\n",
       "    <tr>\n",
       "      <th>96</th>\n",
       "      <td>3904100000</td>\n",
       "      <td>Polyvinyl chloride, not mixed with other su...</td>\n",
       "      <td>71003613.11</td>\n",
       "      <td>22152806.27</td>\n",
       "    </tr>\n",
       "    <tr>\n",
       "      <th>97</th>\n",
       "      <td>8409990000</td>\n",
       "      <td>Parts for compression-ignition internal com...</td>\n",
       "      <td>70386491.63</td>\n",
       "      <td>1147439.95</td>\n",
       "    </tr>\n",
       "    <tr>\n",
       "      <th>98</th>\n",
       "      <td>8703332050</td>\n",
       "      <td>Other vehicles, with compression-ignition i...</td>\n",
       "      <td>70364764.27</td>\n",
       "      <td>2528818.35</td>\n",
       "    </tr>\n",
       "    <tr>\n",
       "      <th>99</th>\n",
       "      <td>7214200000</td>\n",
       "      <td>Iron/Steel b&amp;r, h/r, irregular coils with d...</td>\n",
       "      <td>70099151.94</td>\n",
       "      <td>39949979.61</td>\n",
       "    </tr>\n",
       "    <tr>\n",
       "      <th>100</th>\n",
       "      <td>8703331910</td>\n",
       "      <td>Other vehicles, with compression-ignition i...</td>\n",
       "      <td>69809657.14</td>\n",
       "      <td>1534157.56</td>\n",
       "    </tr>\n",
       "  </tbody>\n",
       "</table>\n",
       "<p>101 rows × 4 columns</p>\n",
       "</div>"
      ],
      "text/plain": [
       "    TRADE IMPORT FOR 2014                                         Unnamed: 1  \\\n",
       "0                 HS CODE                                   ITEM DESCRIPTION   \n",
       "1              2523100000                                    Cement clinkers   \n",
       "2              8705900010      Other special purpose motor vehicle, nes, new   \n",
       "3              2709000000     Petroleum oils and oils obtained from bitum...   \n",
       "4              8502399000               Other generating sets : Other: Other   \n",
       "..                    ...                                                ...   \n",
       "96             3904100000     Polyvinyl chloride, not mixed with other su...   \n",
       "97             8409990000     Parts for compression-ignition internal com...   \n",
       "98             8703332050     Other vehicles, with compression-ignition i...   \n",
       "99             7214200000     Iron/Steel b&r, h/r, irregular coils with d...   \n",
       "100            8703331910     Other vehicles, with compression-ignition i...   \n",
       "\n",
       "             Unnamed: 2       Unnamed: 3  \n",
       "0    CUSTOM VALUE (GHS)  NETWEIGHT (KGs)  \n",
       "1            1646138259       3866159818  \n",
       "2            1199512148        737438.61  \n",
       "3            1149418088      3857276.603  \n",
       "4           907226467.7      13009081.13  \n",
       "..                  ...              ...  \n",
       "96          71003613.11      22152806.27  \n",
       "97          70386491.63       1147439.95  \n",
       "98          70364764.27       2528818.35  \n",
       "99          70099151.94      39949979.61  \n",
       "100         69809657.14       1534157.56  \n",
       "\n",
       "[101 rows x 4 columns]"
      ]
     },
     "execution_count": 23,
     "metadata": {},
     "output_type": "execute_result"
    }
   ],
   "source": [
    "imp4"
   ]
  },
  {
   "cell_type": "code",
   "execution_count": 24,
   "metadata": {
    "tags": []
   },
   "outputs": [
    {
     "data": {
      "text/plain": [
       "TRADE IMPORT FOR 2014    0\n",
       "Unnamed: 1               0\n",
       "Unnamed: 2               0\n",
       "Unnamed: 3               0\n",
       "dtype: int64"
      ]
     },
     "execution_count": 24,
     "metadata": {},
     "output_type": "execute_result"
    }
   ],
   "source": [
    "imp4.isna().sum()\n"
   ]
  },
  {
   "cell_type": "code",
   "execution_count": 25,
   "metadata": {
    "tags": []
   },
   "outputs": [
    {
     "data": {
      "text/plain": [
       "TRADE IMPORT FOR 2014    False\n",
       "Unnamed: 1               False\n",
       "Unnamed: 2               False\n",
       "Unnamed: 3               False\n",
       "dtype: bool"
      ]
     },
     "execution_count": 25,
     "metadata": {},
     "output_type": "execute_result"
    }
   ],
   "source": [
    "imp4.isnull().any(axis=0)"
   ]
  },
  {
   "cell_type": "code",
   "execution_count": 26,
   "metadata": {
    "tags": []
   },
   "outputs": [
    {
     "data": {
      "text/plain": [
       "0"
      ]
     },
     "execution_count": 26,
     "metadata": {},
     "output_type": "execute_result"
    }
   ],
   "source": [
    "imp4.duplicated().sum()"
   ]
  },
  {
   "cell_type": "code",
   "execution_count": 27,
   "metadata": {
    "tags": []
   },
   "outputs": [],
   "source": [
    "imp4  = imp4.drop([0])"
   ]
  },
  {
   "cell_type": "code",
   "execution_count": 28,
   "metadata": {
    "tags": []
   },
   "outputs": [],
   "source": [
    "imp4 = imp4.rename(columns = {'TRADE IMPORT FOR 2014': 'hs code'})"
   ]
  },
  {
   "cell_type": "code",
   "execution_count": 29,
   "metadata": {
    "tags": []
   },
   "outputs": [],
   "source": [
    "imp4 = imp4.rename(columns = {'Unnamed: 1': 'items and description'})"
   ]
  },
  {
   "cell_type": "code",
   "execution_count": 30,
   "metadata": {
    "tags": []
   },
   "outputs": [],
   "source": [
    "imp4 = imp4.rename(columns ={'Unnamed: 2' : 'custom value (ghs)'})"
   ]
  },
  {
   "cell_type": "code",
   "execution_count": 31,
   "metadata": {
    "tags": []
   },
   "outputs": [],
   "source": [
    "imp4 = imp4.rename(columns  = {'Unnamed: 3' : 'netweight(kgs)'})"
   ]
  },
  {
   "cell_type": "code",
   "execution_count": 32,
   "metadata": {
    "tags": []
   },
   "outputs": [],
   "source": [
    "imp4['hs code'] = imp4['hs code'].str.lower()"
   ]
  },
  {
   "cell_type": "code",
   "execution_count": 33,
   "metadata": {
    "tags": []
   },
   "outputs": [],
   "source": [
    "imp4['items and description'] = imp4['items and description'].str.lower()"
   ]
  },
  {
   "cell_type": "code",
   "execution_count": 34,
   "metadata": {
    "tags": []
   },
   "outputs": [],
   "source": [
    "imp4['custom value (ghs)'] = imp4['custom value (ghs)'].str.lower()"
   ]
  },
  {
   "cell_type": "code",
   "execution_count": 35,
   "metadata": {
    "tags": []
   },
   "outputs": [],
   "source": [
    "imp4['netweight(kgs)'] = imp4['netweight(kgs)'].str.lower()"
   ]
  },
  {
   "cell_type": "code",
   "execution_count": 36,
   "metadata": {
    "tags": []
   },
   "outputs": [],
   "source": [
    "imp4['hs code'] = imp4['hs code'].str.strip()"
   ]
  },
  {
   "cell_type": "code",
   "execution_count": 37,
   "metadata": {
    "tags": []
   },
   "outputs": [],
   "source": [
    "imp4['items and description'] = imp4['items and description'].str.strip()"
   ]
  },
  {
   "cell_type": "code",
   "execution_count": 38,
   "metadata": {
    "tags": []
   },
   "outputs": [],
   "source": [
    "imp4['custom value (ghs)'] = imp4['custom value (ghs)'].str.strip()"
   ]
  },
  {
   "cell_type": "code",
   "execution_count": 39,
   "metadata": {
    "tags": []
   },
   "outputs": [],
   "source": [
    "imp4['netweight(kgs)'] = imp4['netweight(kgs)'].str.strip()"
   ]
  },
  {
   "cell_type": "code",
   "execution_count": 40,
   "metadata": {
    "tags": []
   },
   "outputs": [
    {
     "data": {
      "text/html": [
       "<div>\n",
       "<style scoped>\n",
       "    .dataframe tbody tr th:only-of-type {\n",
       "        vertical-align: middle;\n",
       "    }\n",
       "\n",
       "    .dataframe tbody tr th {\n",
       "        vertical-align: top;\n",
       "    }\n",
       "\n",
       "    .dataframe thead th {\n",
       "        text-align: right;\n",
       "    }\n",
       "</style>\n",
       "<table border=\"1\" class=\"dataframe\">\n",
       "  <thead>\n",
       "    <tr style=\"text-align: right;\">\n",
       "      <th></th>\n",
       "      <th>hs code</th>\n",
       "      <th>items and description</th>\n",
       "      <th>custom value (ghs)</th>\n",
       "      <th>netweight(kgs)</th>\n",
       "    </tr>\n",
       "  </thead>\n",
       "  <tbody>\n",
       "    <tr>\n",
       "      <th>1</th>\n",
       "      <td>2523100000</td>\n",
       "      <td>cement clinkers</td>\n",
       "      <td>1646138259</td>\n",
       "      <td>3866159818</td>\n",
       "    </tr>\n",
       "    <tr>\n",
       "      <th>2</th>\n",
       "      <td>8705900010</td>\n",
       "      <td>other special purpose motor vehicle, nes, new</td>\n",
       "      <td>1199512148</td>\n",
       "      <td>737438.61</td>\n",
       "    </tr>\n",
       "    <tr>\n",
       "      <th>3</th>\n",
       "      <td>2709000000</td>\n",
       "      <td>petroleum oils and oils obtained from bitumino...</td>\n",
       "      <td>1149418088</td>\n",
       "      <td>3857276.603</td>\n",
       "    </tr>\n",
       "    <tr>\n",
       "      <th>4</th>\n",
       "      <td>8502399000</td>\n",
       "      <td>other generating sets : other: other</td>\n",
       "      <td>907226467.7</td>\n",
       "      <td>13009081.13</td>\n",
       "    </tr>\n",
       "    <tr>\n",
       "      <th>5</th>\n",
       "      <td>8708990000</td>\n",
       "      <td>parts and accessories, nes, for vehicles of 87...</td>\n",
       "      <td>721513001.9</td>\n",
       "      <td>3282918.06</td>\n",
       "    </tr>\n",
       "    <tr>\n",
       "      <th>...</th>\n",
       "      <td>...</td>\n",
       "      <td>...</td>\n",
       "      <td>...</td>\n",
       "      <td>...</td>\n",
       "    </tr>\n",
       "    <tr>\n",
       "      <th>96</th>\n",
       "      <td>3904100000</td>\n",
       "      <td>polyvinyl chloride, not mixed with other subst...</td>\n",
       "      <td>71003613.11</td>\n",
       "      <td>22152806.27</td>\n",
       "    </tr>\n",
       "    <tr>\n",
       "      <th>97</th>\n",
       "      <td>8409990000</td>\n",
       "      <td>parts for compression-ignition internal combus...</td>\n",
       "      <td>70386491.63</td>\n",
       "      <td>1147439.95</td>\n",
       "    </tr>\n",
       "    <tr>\n",
       "      <th>98</th>\n",
       "      <td>8703332050</td>\n",
       "      <td>other vehicles, with compression-ignition inte...</td>\n",
       "      <td>70364764.27</td>\n",
       "      <td>2528818.35</td>\n",
       "    </tr>\n",
       "    <tr>\n",
       "      <th>99</th>\n",
       "      <td>7214200000</td>\n",
       "      <td>iron/steel b&amp;r, h/r, irregular coils with defo...</td>\n",
       "      <td>70099151.94</td>\n",
       "      <td>39949979.61</td>\n",
       "    </tr>\n",
       "    <tr>\n",
       "      <th>100</th>\n",
       "      <td>8703331910</td>\n",
       "      <td>other vehicles, with compression-ignition inte...</td>\n",
       "      <td>69809657.14</td>\n",
       "      <td>1534157.56</td>\n",
       "    </tr>\n",
       "  </tbody>\n",
       "</table>\n",
       "<p>100 rows × 4 columns</p>\n",
       "</div>"
      ],
      "text/plain": [
       "        hs code                              items and description  \\\n",
       "1    2523100000                                    cement clinkers   \n",
       "2    8705900010      other special purpose motor vehicle, nes, new   \n",
       "3    2709000000  petroleum oils and oils obtained from bitumino...   \n",
       "4    8502399000               other generating sets : other: other   \n",
       "5    8708990000  parts and accessories, nes, for vehicles of 87...   \n",
       "..          ...                                                ...   \n",
       "96   3904100000  polyvinyl chloride, not mixed with other subst...   \n",
       "97   8409990000  parts for compression-ignition internal combus...   \n",
       "98   8703332050  other vehicles, with compression-ignition inte...   \n",
       "99   7214200000  iron/steel b&r, h/r, irregular coils with defo...   \n",
       "100  8703331910  other vehicles, with compression-ignition inte...   \n",
       "\n",
       "    custom value (ghs) netweight(kgs)  \n",
       "1           1646138259     3866159818  \n",
       "2           1199512148      737438.61  \n",
       "3           1149418088    3857276.603  \n",
       "4          907226467.7    13009081.13  \n",
       "5          721513001.9     3282918.06  \n",
       "..                 ...            ...  \n",
       "96         71003613.11    22152806.27  \n",
       "97         70386491.63     1147439.95  \n",
       "98         70364764.27     2528818.35  \n",
       "99         70099151.94    39949979.61  \n",
       "100        69809657.14     1534157.56  \n",
       "\n",
       "[100 rows x 4 columns]"
      ]
     },
     "execution_count": 40,
     "metadata": {},
     "output_type": "execute_result"
    }
   ],
   "source": [
    "imp4"
   ]
  },
  {
   "cell_type": "code",
   "execution_count": 41,
   "metadata": {
    "tags": []
   },
   "outputs": [],
   "source": [
    "imp4['hs head code'] = imp4['hs code'].astype(str).str[:2]"
   ]
  },
  {
   "cell_type": "code",
   "execution_count": 42,
   "metadata": {
    "tags": []
   },
   "outputs": [],
   "source": [
    "imp4['custom value (ghs)'] = imp4['custom value (ghs)'].astype(float)\n",
    "imp4['custom value (usd)'] = imp4['custom value (ghs)'] / 3.2"
   ]
  },
  {
   "cell_type": "code",
   "execution_count": 43,
   "metadata": {
    "tags": []
   },
   "outputs": [
    {
     "data": {
      "text/html": [
       "<div>\n",
       "<style scoped>\n",
       "    .dataframe tbody tr th:only-of-type {\n",
       "        vertical-align: middle;\n",
       "    }\n",
       "\n",
       "    .dataframe tbody tr th {\n",
       "        vertical-align: top;\n",
       "    }\n",
       "\n",
       "    .dataframe thead th {\n",
       "        text-align: right;\n",
       "    }\n",
       "</style>\n",
       "<table border=\"1\" class=\"dataframe\">\n",
       "  <thead>\n",
       "    <tr style=\"text-align: right;\">\n",
       "      <th></th>\n",
       "      <th>hs code</th>\n",
       "      <th>items and description</th>\n",
       "      <th>custom value (ghs)</th>\n",
       "      <th>netweight(kgs)</th>\n",
       "      <th>hs head code</th>\n",
       "      <th>custom value (usd)</th>\n",
       "    </tr>\n",
       "  </thead>\n",
       "  <tbody>\n",
       "    <tr>\n",
       "      <th>1</th>\n",
       "      <td>2523100000</td>\n",
       "      <td>cement clinkers</td>\n",
       "      <td>1.646138e+09</td>\n",
       "      <td>3866159818</td>\n",
       "      <td>25</td>\n",
       "      <td>5.144182e+08</td>\n",
       "    </tr>\n",
       "    <tr>\n",
       "      <th>2</th>\n",
       "      <td>8705900010</td>\n",
       "      <td>other special purpose motor vehicle, nes, new</td>\n",
       "      <td>1.199512e+09</td>\n",
       "      <td>737438.61</td>\n",
       "      <td>87</td>\n",
       "      <td>3.748475e+08</td>\n",
       "    </tr>\n",
       "    <tr>\n",
       "      <th>3</th>\n",
       "      <td>2709000000</td>\n",
       "      <td>petroleum oils and oils obtained from bitumino...</td>\n",
       "      <td>1.149418e+09</td>\n",
       "      <td>3857276.603</td>\n",
       "      <td>27</td>\n",
       "      <td>3.591932e+08</td>\n",
       "    </tr>\n",
       "    <tr>\n",
       "      <th>4</th>\n",
       "      <td>8502399000</td>\n",
       "      <td>other generating sets : other: other</td>\n",
       "      <td>9.072265e+08</td>\n",
       "      <td>13009081.13</td>\n",
       "      <td>85</td>\n",
       "      <td>2.835083e+08</td>\n",
       "    </tr>\n",
       "    <tr>\n",
       "      <th>5</th>\n",
       "      <td>8708990000</td>\n",
       "      <td>parts and accessories, nes, for vehicles of 87...</td>\n",
       "      <td>7.215130e+08</td>\n",
       "      <td>3282918.06</td>\n",
       "      <td>87</td>\n",
       "      <td>2.254728e+08</td>\n",
       "    </tr>\n",
       "    <tr>\n",
       "      <th>...</th>\n",
       "      <td>...</td>\n",
       "      <td>...</td>\n",
       "      <td>...</td>\n",
       "      <td>...</td>\n",
       "      <td>...</td>\n",
       "      <td>...</td>\n",
       "    </tr>\n",
       "    <tr>\n",
       "      <th>96</th>\n",
       "      <td>3904100000</td>\n",
       "      <td>polyvinyl chloride, not mixed with other subst...</td>\n",
       "      <td>7.100361e+07</td>\n",
       "      <td>22152806.27</td>\n",
       "      <td>39</td>\n",
       "      <td>2.218863e+07</td>\n",
       "    </tr>\n",
       "    <tr>\n",
       "      <th>97</th>\n",
       "      <td>8409990000</td>\n",
       "      <td>parts for compression-ignition internal combus...</td>\n",
       "      <td>7.038649e+07</td>\n",
       "      <td>1147439.95</td>\n",
       "      <td>84</td>\n",
       "      <td>2.199578e+07</td>\n",
       "    </tr>\n",
       "    <tr>\n",
       "      <th>98</th>\n",
       "      <td>8703332050</td>\n",
       "      <td>other vehicles, with compression-ignition inte...</td>\n",
       "      <td>7.036476e+07</td>\n",
       "      <td>2528818.35</td>\n",
       "      <td>87</td>\n",
       "      <td>2.198899e+07</td>\n",
       "    </tr>\n",
       "    <tr>\n",
       "      <th>99</th>\n",
       "      <td>7214200000</td>\n",
       "      <td>iron/steel b&amp;r, h/r, irregular coils with defo...</td>\n",
       "      <td>7.009915e+07</td>\n",
       "      <td>39949979.61</td>\n",
       "      <td>72</td>\n",
       "      <td>2.190598e+07</td>\n",
       "    </tr>\n",
       "    <tr>\n",
       "      <th>100</th>\n",
       "      <td>8703331910</td>\n",
       "      <td>other vehicles, with compression-ignition inte...</td>\n",
       "      <td>6.980966e+07</td>\n",
       "      <td>1534157.56</td>\n",
       "      <td>87</td>\n",
       "      <td>2.181552e+07</td>\n",
       "    </tr>\n",
       "  </tbody>\n",
       "</table>\n",
       "<p>100 rows × 6 columns</p>\n",
       "</div>"
      ],
      "text/plain": [
       "        hs code                              items and description  \\\n",
       "1    2523100000                                    cement clinkers   \n",
       "2    8705900010      other special purpose motor vehicle, nes, new   \n",
       "3    2709000000  petroleum oils and oils obtained from bitumino...   \n",
       "4    8502399000               other generating sets : other: other   \n",
       "5    8708990000  parts and accessories, nes, for vehicles of 87...   \n",
       "..          ...                                                ...   \n",
       "96   3904100000  polyvinyl chloride, not mixed with other subst...   \n",
       "97   8409990000  parts for compression-ignition internal combus...   \n",
       "98   8703332050  other vehicles, with compression-ignition inte...   \n",
       "99   7214200000  iron/steel b&r, h/r, irregular coils with defo...   \n",
       "100  8703331910  other vehicles, with compression-ignition inte...   \n",
       "\n",
       "     custom value (ghs) netweight(kgs) hs head code  custom value (usd)  \n",
       "1          1.646138e+09     3866159818           25        5.144182e+08  \n",
       "2          1.199512e+09      737438.61           87        3.748475e+08  \n",
       "3          1.149418e+09    3857276.603           27        3.591932e+08  \n",
       "4          9.072265e+08    13009081.13           85        2.835083e+08  \n",
       "5          7.215130e+08     3282918.06           87        2.254728e+08  \n",
       "..                  ...            ...          ...                 ...  \n",
       "96         7.100361e+07    22152806.27           39        2.218863e+07  \n",
       "97         7.038649e+07     1147439.95           84        2.199578e+07  \n",
       "98         7.036476e+07     2528818.35           87        2.198899e+07  \n",
       "99         7.009915e+07    39949979.61           72        2.190598e+07  \n",
       "100        6.980966e+07     1534157.56           87        2.181552e+07  \n",
       "\n",
       "[100 rows x 6 columns]"
      ]
     },
     "execution_count": 43,
     "metadata": {},
     "output_type": "execute_result"
    }
   ],
   "source": [
    "imp4"
   ]
  },
  {
   "cell_type": "code",
   "execution_count": 44,
   "metadata": {
    "tags": []
   },
   "outputs": [],
   "source": [
    "imp5 = pd.read_csv('top imports 2015.csv')"
   ]
  },
  {
   "cell_type": "code",
   "execution_count": 45,
   "metadata": {
    "tags": []
   },
   "outputs": [
    {
     "data": {
      "text/html": [
       "<div>\n",
       "<style scoped>\n",
       "    .dataframe tbody tr th:only-of-type {\n",
       "        vertical-align: middle;\n",
       "    }\n",
       "\n",
       "    .dataframe tbody tr th {\n",
       "        vertical-align: top;\n",
       "    }\n",
       "\n",
       "    .dataframe thead th {\n",
       "        text-align: right;\n",
       "    }\n",
       "</style>\n",
       "<table border=\"1\" class=\"dataframe\">\n",
       "  <thead>\n",
       "    <tr style=\"text-align: right;\">\n",
       "      <th></th>\n",
       "      <th>TRADE IMPORT FOR 2015</th>\n",
       "      <th>Unnamed: 1</th>\n",
       "      <th>Unnamed: 2</th>\n",
       "      <th>Unnamed: 3</th>\n",
       "    </tr>\n",
       "  </thead>\n",
       "  <tbody>\n",
       "    <tr>\n",
       "      <th>0</th>\n",
       "      <td>HS CODE</td>\n",
       "      <td>ITEM DESCRIPTION</td>\n",
       "      <td>CUSTOM VALUE (GHS)</td>\n",
       "      <td>NETWEIGHT (KGs)</td>\n",
       "    </tr>\n",
       "    <tr>\n",
       "      <th>1</th>\n",
       "      <td>2709000000</td>\n",
       "      <td>Petroleum oils and oils obtained from bitum...</td>\n",
       "      <td>3684485900</td>\n",
       "      <td>72988442.17</td>\n",
       "    </tr>\n",
       "    <tr>\n",
       "      <th>2</th>\n",
       "      <td>8703232050</td>\n",
       "      <td>Other vehicles, with spark-ignition interna...</td>\n",
       "      <td>1408554253</td>\n",
       "      <td>21523025.47</td>\n",
       "    </tr>\n",
       "    <tr>\n",
       "      <th>3</th>\n",
       "      <td>2523100000</td>\n",
       "      <td>Cement clinkers</td>\n",
       "      <td>1352314213</td>\n",
       "      <td>2877426913</td>\n",
       "    </tr>\n",
       "    <tr>\n",
       "      <th>4</th>\n",
       "      <td>4011100000</td>\n",
       "      <td>New pneumatic tyres, of rubber of a kind us...</td>\n",
       "      <td>965353487.1</td>\n",
       "      <td>5341841.39</td>\n",
       "    </tr>\n",
       "    <tr>\n",
       "      <th>...</th>\n",
       "      <td>...</td>\n",
       "      <td>...</td>\n",
       "      <td>...</td>\n",
       "      <td>...</td>\n",
       "    </tr>\n",
       "    <tr>\n",
       "      <th>96</th>\n",
       "      <td>6304911000</td>\n",
       "      <td>Mosquito net whether or not treated</td>\n",
       "      <td>84411904.84</td>\n",
       "      <td>6063705.92</td>\n",
       "    </tr>\n",
       "    <tr>\n",
       "      <th>97</th>\n",
       "      <td>8544499000</td>\n",
       "      <td>Other electric conductors, for a voltage no...</td>\n",
       "      <td>83767126.32</td>\n",
       "      <td>9270795.14</td>\n",
       "    </tr>\n",
       "    <tr>\n",
       "      <th>98</th>\n",
       "      <td>9030400000</td>\n",
       "      <td>Measuring/checking instruments/apparatus fo...</td>\n",
       "      <td>83395401.32</td>\n",
       "      <td>285287.34</td>\n",
       "    </tr>\n",
       "    <tr>\n",
       "      <th>99</th>\n",
       "      <td>3902100000</td>\n",
       "      <td>Polypropylene, in primary forms</td>\n",
       "      <td>82697432.06</td>\n",
       "      <td>16583945.01</td>\n",
       "    </tr>\n",
       "    <tr>\n",
       "      <th>100</th>\n",
       "      <td>1001190000</td>\n",
       "      <td>Durum wheat, Other</td>\n",
       "      <td>81825510.93</td>\n",
       "      <td>74264844.87</td>\n",
       "    </tr>\n",
       "  </tbody>\n",
       "</table>\n",
       "<p>101 rows × 4 columns</p>\n",
       "</div>"
      ],
      "text/plain": [
       "    TRADE IMPORT FOR 2015                                         Unnamed: 1  \\\n",
       "0                 HS CODE                                   ITEM DESCRIPTION   \n",
       "1              2709000000     Petroleum oils and oils obtained from bitum...   \n",
       "2              8703232050     Other vehicles, with spark-ignition interna...   \n",
       "3              2523100000                                    Cement clinkers   \n",
       "4              4011100000     New pneumatic tyres, of rubber of a kind us...   \n",
       "..                    ...                                                ...   \n",
       "96             6304911000                Mosquito net whether or not treated   \n",
       "97             8544499000     Other electric conductors, for a voltage no...   \n",
       "98             9030400000     Measuring/checking instruments/apparatus fo...   \n",
       "99             3902100000                    Polypropylene, in primary forms   \n",
       "100            1001190000                                 Durum wheat, Other   \n",
       "\n",
       "             Unnamed: 2       Unnamed: 3  \n",
       "0    CUSTOM VALUE (GHS)  NETWEIGHT (KGs)  \n",
       "1            3684485900      72988442.17  \n",
       "2            1408554253      21523025.47  \n",
       "3            1352314213       2877426913  \n",
       "4           965353487.1       5341841.39  \n",
       "..                  ...              ...  \n",
       "96          84411904.84       6063705.92  \n",
       "97          83767126.32       9270795.14  \n",
       "98          83395401.32        285287.34  \n",
       "99          82697432.06      16583945.01  \n",
       "100         81825510.93      74264844.87  \n",
       "\n",
       "[101 rows x 4 columns]"
      ]
     },
     "execution_count": 45,
     "metadata": {},
     "output_type": "execute_result"
    }
   ],
   "source": [
    "imp5"
   ]
  },
  {
   "cell_type": "code",
   "execution_count": 46,
   "metadata": {
    "tags": []
   },
   "outputs": [],
   "source": [
    "imp5 = imp5.drop([0])"
   ]
  },
  {
   "cell_type": "code",
   "execution_count": 47,
   "metadata": {
    "tags": []
   },
   "outputs": [
    {
     "data": {
      "text/html": [
       "<div>\n",
       "<style scoped>\n",
       "    .dataframe tbody tr th:only-of-type {\n",
       "        vertical-align: middle;\n",
       "    }\n",
       "\n",
       "    .dataframe tbody tr th {\n",
       "        vertical-align: top;\n",
       "    }\n",
       "\n",
       "    .dataframe thead th {\n",
       "        text-align: right;\n",
       "    }\n",
       "</style>\n",
       "<table border=\"1\" class=\"dataframe\">\n",
       "  <thead>\n",
       "    <tr style=\"text-align: right;\">\n",
       "      <th></th>\n",
       "      <th>TRADE IMPORT FOR 2015</th>\n",
       "      <th>Unnamed: 1</th>\n",
       "      <th>Unnamed: 2</th>\n",
       "      <th>Unnamed: 3</th>\n",
       "    </tr>\n",
       "  </thead>\n",
       "  <tbody>\n",
       "    <tr>\n",
       "      <th>1</th>\n",
       "      <td>2709000000</td>\n",
       "      <td>Petroleum oils and oils obtained from bitum...</td>\n",
       "      <td>3684485900</td>\n",
       "      <td>72988442.17</td>\n",
       "    </tr>\n",
       "    <tr>\n",
       "      <th>2</th>\n",
       "      <td>8703232050</td>\n",
       "      <td>Other vehicles, with spark-ignition interna...</td>\n",
       "      <td>1408554253</td>\n",
       "      <td>21523025.47</td>\n",
       "    </tr>\n",
       "    <tr>\n",
       "      <th>3</th>\n",
       "      <td>2523100000</td>\n",
       "      <td>Cement clinkers</td>\n",
       "      <td>1352314213</td>\n",
       "      <td>2877426913</td>\n",
       "    </tr>\n",
       "    <tr>\n",
       "      <th>4</th>\n",
       "      <td>4011100000</td>\n",
       "      <td>New pneumatic tyres, of rubber of a kind us...</td>\n",
       "      <td>965353487.1</td>\n",
       "      <td>5341841.39</td>\n",
       "    </tr>\n",
       "    <tr>\n",
       "      <th>5</th>\n",
       "      <td>1006400000</td>\n",
       "      <td>Rice, broken</td>\n",
       "      <td>876604626.9</td>\n",
       "      <td>537485689.8</td>\n",
       "    </tr>\n",
       "    <tr>\n",
       "      <th>...</th>\n",
       "      <td>...</td>\n",
       "      <td>...</td>\n",
       "      <td>...</td>\n",
       "      <td>...</td>\n",
       "    </tr>\n",
       "    <tr>\n",
       "      <th>96</th>\n",
       "      <td>6304911000</td>\n",
       "      <td>Mosquito net whether or not treated</td>\n",
       "      <td>84411904.84</td>\n",
       "      <td>6063705.92</td>\n",
       "    </tr>\n",
       "    <tr>\n",
       "      <th>97</th>\n",
       "      <td>8544499000</td>\n",
       "      <td>Other electric conductors, for a voltage no...</td>\n",
       "      <td>83767126.32</td>\n",
       "      <td>9270795.14</td>\n",
       "    </tr>\n",
       "    <tr>\n",
       "      <th>98</th>\n",
       "      <td>9030400000</td>\n",
       "      <td>Measuring/checking instruments/apparatus fo...</td>\n",
       "      <td>83395401.32</td>\n",
       "      <td>285287.34</td>\n",
       "    </tr>\n",
       "    <tr>\n",
       "      <th>99</th>\n",
       "      <td>3902100000</td>\n",
       "      <td>Polypropylene, in primary forms</td>\n",
       "      <td>82697432.06</td>\n",
       "      <td>16583945.01</td>\n",
       "    </tr>\n",
       "    <tr>\n",
       "      <th>100</th>\n",
       "      <td>1001190000</td>\n",
       "      <td>Durum wheat, Other</td>\n",
       "      <td>81825510.93</td>\n",
       "      <td>74264844.87</td>\n",
       "    </tr>\n",
       "  </tbody>\n",
       "</table>\n",
       "<p>100 rows × 4 columns</p>\n",
       "</div>"
      ],
      "text/plain": [
       "    TRADE IMPORT FOR 2015                                         Unnamed: 1  \\\n",
       "1              2709000000     Petroleum oils and oils obtained from bitum...   \n",
       "2              8703232050     Other vehicles, with spark-ignition interna...   \n",
       "3              2523100000                                    Cement clinkers   \n",
       "4              4011100000     New pneumatic tyres, of rubber of a kind us...   \n",
       "5              1006400000                                       Rice, broken   \n",
       "..                    ...                                                ...   \n",
       "96             6304911000                Mosquito net whether or not treated   \n",
       "97             8544499000     Other electric conductors, for a voltage no...   \n",
       "98             9030400000     Measuring/checking instruments/apparatus fo...   \n",
       "99             3902100000                    Polypropylene, in primary forms   \n",
       "100            1001190000                                 Durum wheat, Other   \n",
       "\n",
       "      Unnamed: 2   Unnamed: 3  \n",
       "1     3684485900  72988442.17  \n",
       "2     1408554253  21523025.47  \n",
       "3     1352314213   2877426913  \n",
       "4    965353487.1   5341841.39  \n",
       "5    876604626.9  537485689.8  \n",
       "..           ...          ...  \n",
       "96   84411904.84   6063705.92  \n",
       "97   83767126.32   9270795.14  \n",
       "98   83395401.32    285287.34  \n",
       "99   82697432.06  16583945.01  \n",
       "100  81825510.93  74264844.87  \n",
       "\n",
       "[100 rows x 4 columns]"
      ]
     },
     "execution_count": 47,
     "metadata": {},
     "output_type": "execute_result"
    }
   ],
   "source": [
    "imp5"
   ]
  },
  {
   "cell_type": "code",
   "execution_count": 48,
   "metadata": {
    "tags": []
   },
   "outputs": [],
   "source": [
    "imp5 = imp5.rename(columns = {'TRADE IMPORT FOR 2015': 'hs code'})"
   ]
  },
  {
   "cell_type": "code",
   "execution_count": 49,
   "metadata": {
    "tags": []
   },
   "outputs": [],
   "source": [
    "imp5 = imp5.rename(columns = {'Unnamed: 1': 'items and description'})"
   ]
  },
  {
   "cell_type": "code",
   "execution_count": 50,
   "metadata": {
    "tags": []
   },
   "outputs": [],
   "source": [
    "imp5 = imp5.rename(columns = {'Unnamed: 2': 'custom value (ghs)'})"
   ]
  },
  {
   "cell_type": "code",
   "execution_count": 51,
   "metadata": {
    "tags": []
   },
   "outputs": [],
   "source": [
    "imp5 = imp5.rename(columns = {'Unnamed: 3': 'netweight(kgs)'})"
   ]
  },
  {
   "cell_type": "code",
   "execution_count": 52,
   "metadata": {
    "tags": []
   },
   "outputs": [
    {
     "data": {
      "text/html": [
       "<div>\n",
       "<style scoped>\n",
       "    .dataframe tbody tr th:only-of-type {\n",
       "        vertical-align: middle;\n",
       "    }\n",
       "\n",
       "    .dataframe tbody tr th {\n",
       "        vertical-align: top;\n",
       "    }\n",
       "\n",
       "    .dataframe thead th {\n",
       "        text-align: right;\n",
       "    }\n",
       "</style>\n",
       "<table border=\"1\" class=\"dataframe\">\n",
       "  <thead>\n",
       "    <tr style=\"text-align: right;\">\n",
       "      <th></th>\n",
       "      <th>hs code</th>\n",
       "      <th>items and description</th>\n",
       "      <th>custom value (ghs)</th>\n",
       "      <th>netweight(kgs)</th>\n",
       "    </tr>\n",
       "  </thead>\n",
       "  <tbody>\n",
       "    <tr>\n",
       "      <th>1</th>\n",
       "      <td>2709000000</td>\n",
       "      <td>Petroleum oils and oils obtained from bitum...</td>\n",
       "      <td>3684485900</td>\n",
       "      <td>72988442.17</td>\n",
       "    </tr>\n",
       "    <tr>\n",
       "      <th>2</th>\n",
       "      <td>8703232050</td>\n",
       "      <td>Other vehicles, with spark-ignition interna...</td>\n",
       "      <td>1408554253</td>\n",
       "      <td>21523025.47</td>\n",
       "    </tr>\n",
       "    <tr>\n",
       "      <th>3</th>\n",
       "      <td>2523100000</td>\n",
       "      <td>Cement clinkers</td>\n",
       "      <td>1352314213</td>\n",
       "      <td>2877426913</td>\n",
       "    </tr>\n",
       "    <tr>\n",
       "      <th>4</th>\n",
       "      <td>4011100000</td>\n",
       "      <td>New pneumatic tyres, of rubber of a kind us...</td>\n",
       "      <td>965353487.1</td>\n",
       "      <td>5341841.39</td>\n",
       "    </tr>\n",
       "    <tr>\n",
       "      <th>5</th>\n",
       "      <td>1006400000</td>\n",
       "      <td>Rice, broken</td>\n",
       "      <td>876604626.9</td>\n",
       "      <td>537485689.8</td>\n",
       "    </tr>\n",
       "    <tr>\n",
       "      <th>...</th>\n",
       "      <td>...</td>\n",
       "      <td>...</td>\n",
       "      <td>...</td>\n",
       "      <td>...</td>\n",
       "    </tr>\n",
       "    <tr>\n",
       "      <th>96</th>\n",
       "      <td>6304911000</td>\n",
       "      <td>Mosquito net whether or not treated</td>\n",
       "      <td>84411904.84</td>\n",
       "      <td>6063705.92</td>\n",
       "    </tr>\n",
       "    <tr>\n",
       "      <th>97</th>\n",
       "      <td>8544499000</td>\n",
       "      <td>Other electric conductors, for a voltage no...</td>\n",
       "      <td>83767126.32</td>\n",
       "      <td>9270795.14</td>\n",
       "    </tr>\n",
       "    <tr>\n",
       "      <th>98</th>\n",
       "      <td>9030400000</td>\n",
       "      <td>Measuring/checking instruments/apparatus fo...</td>\n",
       "      <td>83395401.32</td>\n",
       "      <td>285287.34</td>\n",
       "    </tr>\n",
       "    <tr>\n",
       "      <th>99</th>\n",
       "      <td>3902100000</td>\n",
       "      <td>Polypropylene, in primary forms</td>\n",
       "      <td>82697432.06</td>\n",
       "      <td>16583945.01</td>\n",
       "    </tr>\n",
       "    <tr>\n",
       "      <th>100</th>\n",
       "      <td>1001190000</td>\n",
       "      <td>Durum wheat, Other</td>\n",
       "      <td>81825510.93</td>\n",
       "      <td>74264844.87</td>\n",
       "    </tr>\n",
       "  </tbody>\n",
       "</table>\n",
       "<p>100 rows × 4 columns</p>\n",
       "</div>"
      ],
      "text/plain": [
       "           hs code                              items and description  \\\n",
       "1       2709000000     Petroleum oils and oils obtained from bitum...   \n",
       "2       8703232050     Other vehicles, with spark-ignition interna...   \n",
       "3       2523100000                                    Cement clinkers   \n",
       "4       4011100000     New pneumatic tyres, of rubber of a kind us...   \n",
       "5       1006400000                                       Rice, broken   \n",
       "..             ...                                                ...   \n",
       "96      6304911000                Mosquito net whether or not treated   \n",
       "97      8544499000     Other electric conductors, for a voltage no...   \n",
       "98      9030400000     Measuring/checking instruments/apparatus fo...   \n",
       "99      3902100000                    Polypropylene, in primary forms   \n",
       "100     1001190000                                 Durum wheat, Other   \n",
       "\n",
       "    custom value (ghs) netweight(kgs)  \n",
       "1           3684485900    72988442.17  \n",
       "2           1408554253    21523025.47  \n",
       "3           1352314213     2877426913  \n",
       "4          965353487.1     5341841.39  \n",
       "5          876604626.9    537485689.8  \n",
       "..                 ...            ...  \n",
       "96         84411904.84     6063705.92  \n",
       "97         83767126.32     9270795.14  \n",
       "98         83395401.32      285287.34  \n",
       "99         82697432.06    16583945.01  \n",
       "100        81825510.93    74264844.87  \n",
       "\n",
       "[100 rows x 4 columns]"
      ]
     },
     "execution_count": 52,
     "metadata": {},
     "output_type": "execute_result"
    }
   ],
   "source": [
    "imp5"
   ]
  },
  {
   "cell_type": "code",
   "execution_count": 53,
   "metadata": {
    "tags": []
   },
   "outputs": [],
   "source": [
    "imp5['hs code'] = imp5['hs code'].str.lower()"
   ]
  },
  {
   "cell_type": "code",
   "execution_count": 54,
   "metadata": {
    "tags": []
   },
   "outputs": [],
   "source": [
    "imp5['items and description'] = imp5['items and description'].str.lower()"
   ]
  },
  {
   "cell_type": "code",
   "execution_count": 55,
   "metadata": {
    "tags": []
   },
   "outputs": [],
   "source": [
    "imp5['custom value (ghs)'] = imp5['custom value (ghs)'].str.lower()"
   ]
  },
  {
   "cell_type": "code",
   "execution_count": 56,
   "metadata": {
    "tags": []
   },
   "outputs": [],
   "source": [
    "imp5['netweight(kgs)'] = imp5['netweight(kgs)'].str.lower()"
   ]
  },
  {
   "cell_type": "code",
   "execution_count": 57,
   "metadata": {
    "tags": []
   },
   "outputs": [],
   "source": [
    "imp5['hs code'] = imp5['hs code'].str.strip()"
   ]
  },
  {
   "cell_type": "code",
   "execution_count": 58,
   "metadata": {
    "tags": []
   },
   "outputs": [],
   "source": [
    "imp5['items and description'] = imp5['items and description'].str.strip()"
   ]
  },
  {
   "cell_type": "code",
   "execution_count": 59,
   "metadata": {
    "tags": []
   },
   "outputs": [],
   "source": [
    "imp5['custom value (ghs)'] = imp5['custom value (ghs)'].str.strip()"
   ]
  },
  {
   "cell_type": "code",
   "execution_count": 60,
   "metadata": {
    "tags": []
   },
   "outputs": [],
   "source": [
    "imp5['netweight(kgs)'] = imp5['netweight(kgs)'].str.strip()"
   ]
  },
  {
   "cell_type": "code",
   "execution_count": 61,
   "metadata": {
    "tags": []
   },
   "outputs": [],
   "source": [
    "imp5['hs head code'] = imp5['hs code'].astype(str).str[:2]"
   ]
  },
  {
   "cell_type": "code",
   "execution_count": 62,
   "metadata": {
    "tags": []
   },
   "outputs": [],
   "source": [
    "imp5['custom value (ghs)'] = imp5['custom value (ghs)'].astype(float)\n",
    "imp5['custom value (usd)'] = imp5['custom value (ghs)'] / 3.77"
   ]
  },
  {
   "cell_type": "code",
   "execution_count": 63,
   "metadata": {
    "tags": []
   },
   "outputs": [
    {
     "data": {
      "text/html": [
       "<div>\n",
       "<style scoped>\n",
       "    .dataframe tbody tr th:only-of-type {\n",
       "        vertical-align: middle;\n",
       "    }\n",
       "\n",
       "    .dataframe tbody tr th {\n",
       "        vertical-align: top;\n",
       "    }\n",
       "\n",
       "    .dataframe thead th {\n",
       "        text-align: right;\n",
       "    }\n",
       "</style>\n",
       "<table border=\"1\" class=\"dataframe\">\n",
       "  <thead>\n",
       "    <tr style=\"text-align: right;\">\n",
       "      <th></th>\n",
       "      <th>hs code</th>\n",
       "      <th>items and description</th>\n",
       "      <th>custom value (ghs)</th>\n",
       "      <th>netweight(kgs)</th>\n",
       "      <th>hs head code</th>\n",
       "      <th>custom value (usd)</th>\n",
       "    </tr>\n",
       "  </thead>\n",
       "  <tbody>\n",
       "    <tr>\n",
       "      <th>1</th>\n",
       "      <td>2709000000</td>\n",
       "      <td>petroleum oils and oils obtained from bitumino...</td>\n",
       "      <td>3.684486e+09</td>\n",
       "      <td>72988442.17</td>\n",
       "      <td>27</td>\n",
       "      <td>9.773172e+08</td>\n",
       "    </tr>\n",
       "    <tr>\n",
       "      <th>2</th>\n",
       "      <td>8703232050</td>\n",
       "      <td>other vehicles, with spark-ignition internal c...</td>\n",
       "      <td>1.408554e+09</td>\n",
       "      <td>21523025.47</td>\n",
       "      <td>87</td>\n",
       "      <td>3.736218e+08</td>\n",
       "    </tr>\n",
       "    <tr>\n",
       "      <th>3</th>\n",
       "      <td>2523100000</td>\n",
       "      <td>cement clinkers</td>\n",
       "      <td>1.352314e+09</td>\n",
       "      <td>2877426913</td>\n",
       "      <td>25</td>\n",
       "      <td>3.587040e+08</td>\n",
       "    </tr>\n",
       "    <tr>\n",
       "      <th>4</th>\n",
       "      <td>4011100000</td>\n",
       "      <td>new pneumatic tyres, of rubber of a kind used ...</td>\n",
       "      <td>9.653535e+08</td>\n",
       "      <td>5341841.39</td>\n",
       "      <td>40</td>\n",
       "      <td>2.560619e+08</td>\n",
       "    </tr>\n",
       "    <tr>\n",
       "      <th>5</th>\n",
       "      <td>1006400000</td>\n",
       "      <td>rice, broken</td>\n",
       "      <td>8.766046e+08</td>\n",
       "      <td>537485689.8</td>\n",
       "      <td>10</td>\n",
       "      <td>2.325211e+08</td>\n",
       "    </tr>\n",
       "    <tr>\n",
       "      <th>...</th>\n",
       "      <td>...</td>\n",
       "      <td>...</td>\n",
       "      <td>...</td>\n",
       "      <td>...</td>\n",
       "      <td>...</td>\n",
       "      <td>...</td>\n",
       "    </tr>\n",
       "    <tr>\n",
       "      <th>96</th>\n",
       "      <td>6304911000</td>\n",
       "      <td>mosquito net whether or not treated</td>\n",
       "      <td>8.441190e+07</td>\n",
       "      <td>6063705.92</td>\n",
       "      <td>63</td>\n",
       "      <td>2.239043e+07</td>\n",
       "    </tr>\n",
       "    <tr>\n",
       "      <th>97</th>\n",
       "      <td>8544499000</td>\n",
       "      <td>other electric conductors, for a voltage not e...</td>\n",
       "      <td>8.376713e+07</td>\n",
       "      <td>9270795.14</td>\n",
       "      <td>85</td>\n",
       "      <td>2.221940e+07</td>\n",
       "    </tr>\n",
       "    <tr>\n",
       "      <th>98</th>\n",
       "      <td>9030400000</td>\n",
       "      <td>measuring/checking instruments/apparatus for t...</td>\n",
       "      <td>8.339540e+07</td>\n",
       "      <td>285287.34</td>\n",
       "      <td>90</td>\n",
       "      <td>2.212080e+07</td>\n",
       "    </tr>\n",
       "    <tr>\n",
       "      <th>99</th>\n",
       "      <td>3902100000</td>\n",
       "      <td>polypropylene, in primary forms</td>\n",
       "      <td>8.269743e+07</td>\n",
       "      <td>16583945.01</td>\n",
       "      <td>39</td>\n",
       "      <td>2.193566e+07</td>\n",
       "    </tr>\n",
       "    <tr>\n",
       "      <th>100</th>\n",
       "      <td>1001190000</td>\n",
       "      <td>durum wheat, other</td>\n",
       "      <td>8.182551e+07</td>\n",
       "      <td>74264844.87</td>\n",
       "      <td>10</td>\n",
       "      <td>2.170438e+07</td>\n",
       "    </tr>\n",
       "  </tbody>\n",
       "</table>\n",
       "<p>100 rows × 6 columns</p>\n",
       "</div>"
      ],
      "text/plain": [
       "        hs code                              items and description  \\\n",
       "1    2709000000  petroleum oils and oils obtained from bitumino...   \n",
       "2    8703232050  other vehicles, with spark-ignition internal c...   \n",
       "3    2523100000                                    cement clinkers   \n",
       "4    4011100000  new pneumatic tyres, of rubber of a kind used ...   \n",
       "5    1006400000                                       rice, broken   \n",
       "..          ...                                                ...   \n",
       "96   6304911000                mosquito net whether or not treated   \n",
       "97   8544499000  other electric conductors, for a voltage not e...   \n",
       "98   9030400000  measuring/checking instruments/apparatus for t...   \n",
       "99   3902100000                    polypropylene, in primary forms   \n",
       "100  1001190000                                 durum wheat, other   \n",
       "\n",
       "     custom value (ghs) netweight(kgs) hs head code  custom value (usd)  \n",
       "1          3.684486e+09    72988442.17           27        9.773172e+08  \n",
       "2          1.408554e+09    21523025.47           87        3.736218e+08  \n",
       "3          1.352314e+09     2877426913           25        3.587040e+08  \n",
       "4          9.653535e+08     5341841.39           40        2.560619e+08  \n",
       "5          8.766046e+08    537485689.8           10        2.325211e+08  \n",
       "..                  ...            ...          ...                 ...  \n",
       "96         8.441190e+07     6063705.92           63        2.239043e+07  \n",
       "97         8.376713e+07     9270795.14           85        2.221940e+07  \n",
       "98         8.339540e+07      285287.34           90        2.212080e+07  \n",
       "99         8.269743e+07    16583945.01           39        2.193566e+07  \n",
       "100        8.182551e+07    74264844.87           10        2.170438e+07  \n",
       "\n",
       "[100 rows x 6 columns]"
      ]
     },
     "execution_count": 63,
     "metadata": {},
     "output_type": "execute_result"
    }
   ],
   "source": [
    "imp5"
   ]
  },
  {
   "cell_type": "code",
   "execution_count": 64,
   "metadata": {
    "tags": []
   },
   "outputs": [],
   "source": [
    "imp = pd.concat([imp4, imp5], ignore_index = True)"
   ]
  },
  {
   "cell_type": "code",
   "execution_count": 65,
   "metadata": {
    "tags": []
   },
   "outputs": [
    {
     "data": {
      "text/html": [
       "<div>\n",
       "<style scoped>\n",
       "    .dataframe tbody tr th:only-of-type {\n",
       "        vertical-align: middle;\n",
       "    }\n",
       "\n",
       "    .dataframe tbody tr th {\n",
       "        vertical-align: top;\n",
       "    }\n",
       "\n",
       "    .dataframe thead th {\n",
       "        text-align: right;\n",
       "    }\n",
       "</style>\n",
       "<table border=\"1\" class=\"dataframe\">\n",
       "  <thead>\n",
       "    <tr style=\"text-align: right;\">\n",
       "      <th></th>\n",
       "      <th>hs code</th>\n",
       "      <th>items and description</th>\n",
       "      <th>custom value (ghs)</th>\n",
       "      <th>netweight(kgs)</th>\n",
       "      <th>hs head code</th>\n",
       "      <th>custom value (usd)</th>\n",
       "    </tr>\n",
       "  </thead>\n",
       "  <tbody>\n",
       "    <tr>\n",
       "      <th>0</th>\n",
       "      <td>2523100000</td>\n",
       "      <td>cement clinkers</td>\n",
       "      <td>1.646138e+09</td>\n",
       "      <td>3866159818</td>\n",
       "      <td>25</td>\n",
       "      <td>5.144182e+08</td>\n",
       "    </tr>\n",
       "    <tr>\n",
       "      <th>1</th>\n",
       "      <td>8705900010</td>\n",
       "      <td>other special purpose motor vehicle, nes, new</td>\n",
       "      <td>1.199512e+09</td>\n",
       "      <td>737438.61</td>\n",
       "      <td>87</td>\n",
       "      <td>3.748475e+08</td>\n",
       "    </tr>\n",
       "    <tr>\n",
       "      <th>2</th>\n",
       "      <td>2709000000</td>\n",
       "      <td>petroleum oils and oils obtained from bitumino...</td>\n",
       "      <td>1.149418e+09</td>\n",
       "      <td>3857276.603</td>\n",
       "      <td>27</td>\n",
       "      <td>3.591932e+08</td>\n",
       "    </tr>\n",
       "    <tr>\n",
       "      <th>3</th>\n",
       "      <td>8502399000</td>\n",
       "      <td>other generating sets : other: other</td>\n",
       "      <td>9.072265e+08</td>\n",
       "      <td>13009081.13</td>\n",
       "      <td>85</td>\n",
       "      <td>2.835083e+08</td>\n",
       "    </tr>\n",
       "    <tr>\n",
       "      <th>4</th>\n",
       "      <td>8708990000</td>\n",
       "      <td>parts and accessories, nes, for vehicles of 87...</td>\n",
       "      <td>7.215130e+08</td>\n",
       "      <td>3282918.06</td>\n",
       "      <td>87</td>\n",
       "      <td>2.254728e+08</td>\n",
       "    </tr>\n",
       "    <tr>\n",
       "      <th>...</th>\n",
       "      <td>...</td>\n",
       "      <td>...</td>\n",
       "      <td>...</td>\n",
       "      <td>...</td>\n",
       "      <td>...</td>\n",
       "      <td>...</td>\n",
       "    </tr>\n",
       "    <tr>\n",
       "      <th>195</th>\n",
       "      <td>6304911000</td>\n",
       "      <td>mosquito net whether or not treated</td>\n",
       "      <td>8.441190e+07</td>\n",
       "      <td>6063705.92</td>\n",
       "      <td>63</td>\n",
       "      <td>2.239043e+07</td>\n",
       "    </tr>\n",
       "    <tr>\n",
       "      <th>196</th>\n",
       "      <td>8544499000</td>\n",
       "      <td>other electric conductors, for a voltage not e...</td>\n",
       "      <td>8.376713e+07</td>\n",
       "      <td>9270795.14</td>\n",
       "      <td>85</td>\n",
       "      <td>2.221940e+07</td>\n",
       "    </tr>\n",
       "    <tr>\n",
       "      <th>197</th>\n",
       "      <td>9030400000</td>\n",
       "      <td>measuring/checking instruments/apparatus for t...</td>\n",
       "      <td>8.339540e+07</td>\n",
       "      <td>285287.34</td>\n",
       "      <td>90</td>\n",
       "      <td>2.212080e+07</td>\n",
       "    </tr>\n",
       "    <tr>\n",
       "      <th>198</th>\n",
       "      <td>3902100000</td>\n",
       "      <td>polypropylene, in primary forms</td>\n",
       "      <td>8.269743e+07</td>\n",
       "      <td>16583945.01</td>\n",
       "      <td>39</td>\n",
       "      <td>2.193566e+07</td>\n",
       "    </tr>\n",
       "    <tr>\n",
       "      <th>199</th>\n",
       "      <td>1001190000</td>\n",
       "      <td>durum wheat, other</td>\n",
       "      <td>8.182551e+07</td>\n",
       "      <td>74264844.87</td>\n",
       "      <td>10</td>\n",
       "      <td>2.170438e+07</td>\n",
       "    </tr>\n",
       "  </tbody>\n",
       "</table>\n",
       "<p>200 rows × 6 columns</p>\n",
       "</div>"
      ],
      "text/plain": [
       "        hs code                              items and description  \\\n",
       "0    2523100000                                    cement clinkers   \n",
       "1    8705900010      other special purpose motor vehicle, nes, new   \n",
       "2    2709000000  petroleum oils and oils obtained from bitumino...   \n",
       "3    8502399000               other generating sets : other: other   \n",
       "4    8708990000  parts and accessories, nes, for vehicles of 87...   \n",
       "..          ...                                                ...   \n",
       "195  6304911000                mosquito net whether or not treated   \n",
       "196  8544499000  other electric conductors, for a voltage not e...   \n",
       "197  9030400000  measuring/checking instruments/apparatus for t...   \n",
       "198  3902100000                    polypropylene, in primary forms   \n",
       "199  1001190000                                 durum wheat, other   \n",
       "\n",
       "     custom value (ghs) netweight(kgs) hs head code  custom value (usd)  \n",
       "0          1.646138e+09     3866159818           25        5.144182e+08  \n",
       "1          1.199512e+09      737438.61           87        3.748475e+08  \n",
       "2          1.149418e+09    3857276.603           27        3.591932e+08  \n",
       "3          9.072265e+08    13009081.13           85        2.835083e+08  \n",
       "4          7.215130e+08     3282918.06           87        2.254728e+08  \n",
       "..                  ...            ...          ...                 ...  \n",
       "195        8.441190e+07     6063705.92           63        2.239043e+07  \n",
       "196        8.376713e+07     9270795.14           85        2.221940e+07  \n",
       "197        8.339540e+07      285287.34           90        2.212080e+07  \n",
       "198        8.269743e+07    16583945.01           39        2.193566e+07  \n",
       "199        8.182551e+07    74264844.87           10        2.170438e+07  \n",
       "\n",
       "[200 rows x 6 columns]"
      ]
     },
     "execution_count": 65,
     "metadata": {},
     "output_type": "execute_result"
    }
   ],
   "source": [
    "imp"
   ]
  },
  {
   "cell_type": "code",
   "execution_count": 66,
   "metadata": {
    "tags": []
   },
   "outputs": [],
   "source": [
    "imp['year'] = pd.concat([pd.Series([2014] * len(imp4)), pd.Series([2015] * len(imp5))], ignore_index = True)"
   ]
  },
  {
   "cell_type": "code",
   "execution_count": 67,
   "metadata": {
    "tags": []
   },
   "outputs": [
    {
     "data": {
      "text/html": [
       "<div>\n",
       "<style scoped>\n",
       "    .dataframe tbody tr th:only-of-type {\n",
       "        vertical-align: middle;\n",
       "    }\n",
       "\n",
       "    .dataframe tbody tr th {\n",
       "        vertical-align: top;\n",
       "    }\n",
       "\n",
       "    .dataframe thead th {\n",
       "        text-align: right;\n",
       "    }\n",
       "</style>\n",
       "<table border=\"1\" class=\"dataframe\">\n",
       "  <thead>\n",
       "    <tr style=\"text-align: right;\">\n",
       "      <th></th>\n",
       "      <th>hs code</th>\n",
       "      <th>items and description</th>\n",
       "      <th>custom value (ghs)</th>\n",
       "      <th>netweight(kgs)</th>\n",
       "      <th>hs head code</th>\n",
       "      <th>custom value (usd)</th>\n",
       "      <th>year</th>\n",
       "    </tr>\n",
       "  </thead>\n",
       "  <tbody>\n",
       "    <tr>\n",
       "      <th>0</th>\n",
       "      <td>2523100000</td>\n",
       "      <td>cement clinkers</td>\n",
       "      <td>1.646138e+09</td>\n",
       "      <td>3866159818</td>\n",
       "      <td>25</td>\n",
       "      <td>5.144182e+08</td>\n",
       "      <td>2014</td>\n",
       "    </tr>\n",
       "    <tr>\n",
       "      <th>1</th>\n",
       "      <td>8705900010</td>\n",
       "      <td>other special purpose motor vehicle, nes, new</td>\n",
       "      <td>1.199512e+09</td>\n",
       "      <td>737438.61</td>\n",
       "      <td>87</td>\n",
       "      <td>3.748475e+08</td>\n",
       "      <td>2014</td>\n",
       "    </tr>\n",
       "    <tr>\n",
       "      <th>2</th>\n",
       "      <td>2709000000</td>\n",
       "      <td>petroleum oils and oils obtained from bitumino...</td>\n",
       "      <td>1.149418e+09</td>\n",
       "      <td>3857276.603</td>\n",
       "      <td>27</td>\n",
       "      <td>3.591932e+08</td>\n",
       "      <td>2014</td>\n",
       "    </tr>\n",
       "    <tr>\n",
       "      <th>3</th>\n",
       "      <td>8502399000</td>\n",
       "      <td>other generating sets : other: other</td>\n",
       "      <td>9.072265e+08</td>\n",
       "      <td>13009081.13</td>\n",
       "      <td>85</td>\n",
       "      <td>2.835083e+08</td>\n",
       "      <td>2014</td>\n",
       "    </tr>\n",
       "    <tr>\n",
       "      <th>4</th>\n",
       "      <td>8708990000</td>\n",
       "      <td>parts and accessories, nes, for vehicles of 87...</td>\n",
       "      <td>7.215130e+08</td>\n",
       "      <td>3282918.06</td>\n",
       "      <td>87</td>\n",
       "      <td>2.254728e+08</td>\n",
       "      <td>2014</td>\n",
       "    </tr>\n",
       "    <tr>\n",
       "      <th>...</th>\n",
       "      <td>...</td>\n",
       "      <td>...</td>\n",
       "      <td>...</td>\n",
       "      <td>...</td>\n",
       "      <td>...</td>\n",
       "      <td>...</td>\n",
       "      <td>...</td>\n",
       "    </tr>\n",
       "    <tr>\n",
       "      <th>195</th>\n",
       "      <td>6304911000</td>\n",
       "      <td>mosquito net whether or not treated</td>\n",
       "      <td>8.441190e+07</td>\n",
       "      <td>6063705.92</td>\n",
       "      <td>63</td>\n",
       "      <td>2.239043e+07</td>\n",
       "      <td>2015</td>\n",
       "    </tr>\n",
       "    <tr>\n",
       "      <th>196</th>\n",
       "      <td>8544499000</td>\n",
       "      <td>other electric conductors, for a voltage not e...</td>\n",
       "      <td>8.376713e+07</td>\n",
       "      <td>9270795.14</td>\n",
       "      <td>85</td>\n",
       "      <td>2.221940e+07</td>\n",
       "      <td>2015</td>\n",
       "    </tr>\n",
       "    <tr>\n",
       "      <th>197</th>\n",
       "      <td>9030400000</td>\n",
       "      <td>measuring/checking instruments/apparatus for t...</td>\n",
       "      <td>8.339540e+07</td>\n",
       "      <td>285287.34</td>\n",
       "      <td>90</td>\n",
       "      <td>2.212080e+07</td>\n",
       "      <td>2015</td>\n",
       "    </tr>\n",
       "    <tr>\n",
       "      <th>198</th>\n",
       "      <td>3902100000</td>\n",
       "      <td>polypropylene, in primary forms</td>\n",
       "      <td>8.269743e+07</td>\n",
       "      <td>16583945.01</td>\n",
       "      <td>39</td>\n",
       "      <td>2.193566e+07</td>\n",
       "      <td>2015</td>\n",
       "    </tr>\n",
       "    <tr>\n",
       "      <th>199</th>\n",
       "      <td>1001190000</td>\n",
       "      <td>durum wheat, other</td>\n",
       "      <td>8.182551e+07</td>\n",
       "      <td>74264844.87</td>\n",
       "      <td>10</td>\n",
       "      <td>2.170438e+07</td>\n",
       "      <td>2015</td>\n",
       "    </tr>\n",
       "  </tbody>\n",
       "</table>\n",
       "<p>200 rows × 7 columns</p>\n",
       "</div>"
      ],
      "text/plain": [
       "        hs code                              items and description  \\\n",
       "0    2523100000                                    cement clinkers   \n",
       "1    8705900010      other special purpose motor vehicle, nes, new   \n",
       "2    2709000000  petroleum oils and oils obtained from bitumino...   \n",
       "3    8502399000               other generating sets : other: other   \n",
       "4    8708990000  parts and accessories, nes, for vehicles of 87...   \n",
       "..          ...                                                ...   \n",
       "195  6304911000                mosquito net whether or not treated   \n",
       "196  8544499000  other electric conductors, for a voltage not e...   \n",
       "197  9030400000  measuring/checking instruments/apparatus for t...   \n",
       "198  3902100000                    polypropylene, in primary forms   \n",
       "199  1001190000                                 durum wheat, other   \n",
       "\n",
       "     custom value (ghs) netweight(kgs) hs head code  custom value (usd)  year  \n",
       "0          1.646138e+09     3866159818           25        5.144182e+08  2014  \n",
       "1          1.199512e+09      737438.61           87        3.748475e+08  2014  \n",
       "2          1.149418e+09    3857276.603           27        3.591932e+08  2014  \n",
       "3          9.072265e+08    13009081.13           85        2.835083e+08  2014  \n",
       "4          7.215130e+08     3282918.06           87        2.254728e+08  2014  \n",
       "..                  ...            ...          ...                 ...   ...  \n",
       "195        8.441190e+07     6063705.92           63        2.239043e+07  2015  \n",
       "196        8.376713e+07     9270795.14           85        2.221940e+07  2015  \n",
       "197        8.339540e+07      285287.34           90        2.212080e+07  2015  \n",
       "198        8.269743e+07    16583945.01           39        2.193566e+07  2015  \n",
       "199        8.182551e+07    74264844.87           10        2.170438e+07  2015  \n",
       "\n",
       "[200 rows x 7 columns]"
      ]
     },
     "execution_count": 67,
     "metadata": {},
     "output_type": "execute_result"
    }
   ],
   "source": [
    "imp"
   ]
  },
  {
   "cell_type": "code",
   "execution_count": 68,
   "metadata": {
    "tags": []
   },
   "outputs": [],
   "source": [
    "imp.index = imp.index + 1"
   ]
  },
  {
   "cell_type": "code",
   "execution_count": 69,
   "metadata": {
    "tags": []
   },
   "outputs": [
    {
     "data": {
      "text/html": [
       "<div>\n",
       "<style scoped>\n",
       "    .dataframe tbody tr th:only-of-type {\n",
       "        vertical-align: middle;\n",
       "    }\n",
       "\n",
       "    .dataframe tbody tr th {\n",
       "        vertical-align: top;\n",
       "    }\n",
       "\n",
       "    .dataframe thead th {\n",
       "        text-align: right;\n",
       "    }\n",
       "</style>\n",
       "<table border=\"1\" class=\"dataframe\">\n",
       "  <thead>\n",
       "    <tr style=\"text-align: right;\">\n",
       "      <th></th>\n",
       "      <th>hs code</th>\n",
       "      <th>items and description</th>\n",
       "      <th>custom value (ghs)</th>\n",
       "      <th>netweight(kgs)</th>\n",
       "      <th>hs head code</th>\n",
       "      <th>custom value (usd)</th>\n",
       "      <th>year</th>\n",
       "    </tr>\n",
       "  </thead>\n",
       "  <tbody>\n",
       "    <tr>\n",
       "      <th>1</th>\n",
       "      <td>2523100000</td>\n",
       "      <td>cement clinkers</td>\n",
       "      <td>1.646138e+09</td>\n",
       "      <td>3866159818</td>\n",
       "      <td>25</td>\n",
       "      <td>5.144182e+08</td>\n",
       "      <td>2014</td>\n",
       "    </tr>\n",
       "    <tr>\n",
       "      <th>2</th>\n",
       "      <td>8705900010</td>\n",
       "      <td>other special purpose motor vehicle, nes, new</td>\n",
       "      <td>1.199512e+09</td>\n",
       "      <td>737438.61</td>\n",
       "      <td>87</td>\n",
       "      <td>3.748475e+08</td>\n",
       "      <td>2014</td>\n",
       "    </tr>\n",
       "    <tr>\n",
       "      <th>3</th>\n",
       "      <td>2709000000</td>\n",
       "      <td>petroleum oils and oils obtained from bitumino...</td>\n",
       "      <td>1.149418e+09</td>\n",
       "      <td>3857276.603</td>\n",
       "      <td>27</td>\n",
       "      <td>3.591932e+08</td>\n",
       "      <td>2014</td>\n",
       "    </tr>\n",
       "    <tr>\n",
       "      <th>4</th>\n",
       "      <td>8502399000</td>\n",
       "      <td>other generating sets : other: other</td>\n",
       "      <td>9.072265e+08</td>\n",
       "      <td>13009081.13</td>\n",
       "      <td>85</td>\n",
       "      <td>2.835083e+08</td>\n",
       "      <td>2014</td>\n",
       "    </tr>\n",
       "    <tr>\n",
       "      <th>5</th>\n",
       "      <td>8708990000</td>\n",
       "      <td>parts and accessories, nes, for vehicles of 87...</td>\n",
       "      <td>7.215130e+08</td>\n",
       "      <td>3282918.06</td>\n",
       "      <td>87</td>\n",
       "      <td>2.254728e+08</td>\n",
       "      <td>2014</td>\n",
       "    </tr>\n",
       "    <tr>\n",
       "      <th>...</th>\n",
       "      <td>...</td>\n",
       "      <td>...</td>\n",
       "      <td>...</td>\n",
       "      <td>...</td>\n",
       "      <td>...</td>\n",
       "      <td>...</td>\n",
       "      <td>...</td>\n",
       "    </tr>\n",
       "    <tr>\n",
       "      <th>196</th>\n",
       "      <td>6304911000</td>\n",
       "      <td>mosquito net whether or not treated</td>\n",
       "      <td>8.441190e+07</td>\n",
       "      <td>6063705.92</td>\n",
       "      <td>63</td>\n",
       "      <td>2.239043e+07</td>\n",
       "      <td>2015</td>\n",
       "    </tr>\n",
       "    <tr>\n",
       "      <th>197</th>\n",
       "      <td>8544499000</td>\n",
       "      <td>other electric conductors, for a voltage not e...</td>\n",
       "      <td>8.376713e+07</td>\n",
       "      <td>9270795.14</td>\n",
       "      <td>85</td>\n",
       "      <td>2.221940e+07</td>\n",
       "      <td>2015</td>\n",
       "    </tr>\n",
       "    <tr>\n",
       "      <th>198</th>\n",
       "      <td>9030400000</td>\n",
       "      <td>measuring/checking instruments/apparatus for t...</td>\n",
       "      <td>8.339540e+07</td>\n",
       "      <td>285287.34</td>\n",
       "      <td>90</td>\n",
       "      <td>2.212080e+07</td>\n",
       "      <td>2015</td>\n",
       "    </tr>\n",
       "    <tr>\n",
       "      <th>199</th>\n",
       "      <td>3902100000</td>\n",
       "      <td>polypropylene, in primary forms</td>\n",
       "      <td>8.269743e+07</td>\n",
       "      <td>16583945.01</td>\n",
       "      <td>39</td>\n",
       "      <td>2.193566e+07</td>\n",
       "      <td>2015</td>\n",
       "    </tr>\n",
       "    <tr>\n",
       "      <th>200</th>\n",
       "      <td>1001190000</td>\n",
       "      <td>durum wheat, other</td>\n",
       "      <td>8.182551e+07</td>\n",
       "      <td>74264844.87</td>\n",
       "      <td>10</td>\n",
       "      <td>2.170438e+07</td>\n",
       "      <td>2015</td>\n",
       "    </tr>\n",
       "  </tbody>\n",
       "</table>\n",
       "<p>200 rows × 7 columns</p>\n",
       "</div>"
      ],
      "text/plain": [
       "        hs code                              items and description  \\\n",
       "1    2523100000                                    cement clinkers   \n",
       "2    8705900010      other special purpose motor vehicle, nes, new   \n",
       "3    2709000000  petroleum oils and oils obtained from bitumino...   \n",
       "4    8502399000               other generating sets : other: other   \n",
       "5    8708990000  parts and accessories, nes, for vehicles of 87...   \n",
       "..          ...                                                ...   \n",
       "196  6304911000                mosquito net whether or not treated   \n",
       "197  8544499000  other electric conductors, for a voltage not e...   \n",
       "198  9030400000  measuring/checking instruments/apparatus for t...   \n",
       "199  3902100000                    polypropylene, in primary forms   \n",
       "200  1001190000                                 durum wheat, other   \n",
       "\n",
       "     custom value (ghs) netweight(kgs) hs head code  custom value (usd)  year  \n",
       "1          1.646138e+09     3866159818           25        5.144182e+08  2014  \n",
       "2          1.199512e+09      737438.61           87        3.748475e+08  2014  \n",
       "3          1.149418e+09    3857276.603           27        3.591932e+08  2014  \n",
       "4          9.072265e+08    13009081.13           85        2.835083e+08  2014  \n",
       "5          7.215130e+08     3282918.06           87        2.254728e+08  2014  \n",
       "..                  ...            ...          ...                 ...   ...  \n",
       "196        8.441190e+07     6063705.92           63        2.239043e+07  2015  \n",
       "197        8.376713e+07     9270795.14           85        2.221940e+07  2015  \n",
       "198        8.339540e+07      285287.34           90        2.212080e+07  2015  \n",
       "199        8.269743e+07    16583945.01           39        2.193566e+07  2015  \n",
       "200        8.182551e+07    74264844.87           10        2.170438e+07  2015  \n",
       "\n",
       "[200 rows x 7 columns]"
      ]
     },
     "execution_count": 69,
     "metadata": {},
     "output_type": "execute_result"
    }
   ],
   "source": [
    "imp"
   ]
  },
  {
   "cell_type": "code",
   "execution_count": 70,
   "metadata": {
    "tags": []
   },
   "outputs": [],
   "source": [
    "hs_code_ranges = [(1, 5, 'Live animals, animals products'), \n",
    "                  (6, 14, 'vegetable products'), \n",
    "                  (15, 15, 'animal or vegetable fats and oils and their respective cleavage products, prepared edible fats animal or vegetable waste'), \n",
    "                  (16, 24, 'prepared foodstuff, brevages, spirits, vinegar, tobacco and manufactured tobacco substitutes'), \n",
    "                  (25, 27, 'mineral products'), \n",
    "                  (28, 38, 'products of chemical or allied industries'),\n",
    "                  (39, 39, 'Plastics and articles thereof; rubber and articles thereof'),\n",
    "                  (40, 43, 'Raw hides and skins, leather, furskins, and articles thereof; saddlery and harness; travel goods, handbags, and similar containers; articles of animal gut (other than silk-worm gut)'), \n",
    "                  (40, 49, 'Wood and articles of wood; wood charcoal; cork and articles of cork; manufactures of straw, of esparto, or of other plaiting materials; basketware and wickerwork'), \n",
    "                  (50, 63, 'Textiles and textile articles'),\n",
    "                  (64, 67, 'Footwear, headgear, umbrellas, sun umbrellas, walking sticks, seat-sticks, whips, riding-crops, and parts thereof; prepared feathers and articles made therewith; artificial flowers; articles of human hair'),\n",
    "                  (68, 71, 'Articles of stone, plaster, cement, asbestos, mica, or similar materials; ceramic products; glass and glassware'), \n",
    "                  (72, 83, 'Metals and articles thereof'), \n",
    "                  (84, 84, 'Nuclear reactors, boilers, machinery, and mechanical appliances; parts thereof'), \n",
    "                  (85, 85, 'Electrical machinery and equipment and parts thereof; sound recorders and reproducers, television image and sound recorders and reproducers, and parts and accessories of such articles'), \n",
    "                  (86, 86, 'Railway or tramway locomotives, rolling-stock, and parts thereof; railway or tramway track fixtures and fittings and parts thereof; mechanical (including electro-mechanical) traffic signaling equipment of all kinds'),\n",
    "                  (87, 87, 'Vehicles other than railway or tramway rolling stock and parts and accessories thereof'), \n",
    "                  (88, 88, 'Aircraft, spacecraft, and parts thereof'), \n",
    "                  (89, 89, 'Ships, boats, and floating structures'), \n",
    "                  (90, 90,'Optical, photographic, cinematographic, measuring, checking, precision, medical or surgical instruments and apparatus; clocks and watches; musical instruments; parts and accessories thereof'), \n",
    "                  (91, 98, 'Miscellaneous manufactured articles')]"
   ]
  },
  {
   "cell_type": "code",
   "execution_count": 71,
   "metadata": {
    "tags": []
   },
   "outputs": [],
   "source": [
    "imp['hs head code'] = imp['hs head code'].astype(int)"
   ]
  },
  {
   "cell_type": "code",
   "execution_count": 72,
   "metadata": {
    "tags": []
   },
   "outputs": [],
   "source": [
    "conditions = [((imp['hs head code'] >= start) & (imp['hs head code'] <= end)) for start, end, _ in hs_code_ranges]\n",
    "choices = [industry for _, _, industry in hs_code_ranges]\n",
    "imp['industry'] = np.select(conditions, choices, default='Other')"
   ]
  },
  {
   "cell_type": "code",
   "execution_count": 73,
   "metadata": {
    "tags": []
   },
   "outputs": [
    {
     "data": {
      "text/html": [
       "<div>\n",
       "<style scoped>\n",
       "    .dataframe tbody tr th:only-of-type {\n",
       "        vertical-align: middle;\n",
       "    }\n",
       "\n",
       "    .dataframe tbody tr th {\n",
       "        vertical-align: top;\n",
       "    }\n",
       "\n",
       "    .dataframe thead th {\n",
       "        text-align: right;\n",
       "    }\n",
       "</style>\n",
       "<table border=\"1\" class=\"dataframe\">\n",
       "  <thead>\n",
       "    <tr style=\"text-align: right;\">\n",
       "      <th></th>\n",
       "      <th>hs code</th>\n",
       "      <th>items and description</th>\n",
       "      <th>custom value (ghs)</th>\n",
       "      <th>netweight(kgs)</th>\n",
       "      <th>hs head code</th>\n",
       "      <th>custom value (usd)</th>\n",
       "      <th>year</th>\n",
       "      <th>industry</th>\n",
       "    </tr>\n",
       "  </thead>\n",
       "  <tbody>\n",
       "    <tr>\n",
       "      <th>1</th>\n",
       "      <td>2523100000</td>\n",
       "      <td>cement clinkers</td>\n",
       "      <td>1.646138e+09</td>\n",
       "      <td>3866159818</td>\n",
       "      <td>25</td>\n",
       "      <td>5.144182e+08</td>\n",
       "      <td>2014</td>\n",
       "      <td>mineral products</td>\n",
       "    </tr>\n",
       "    <tr>\n",
       "      <th>2</th>\n",
       "      <td>8705900010</td>\n",
       "      <td>other special purpose motor vehicle, nes, new</td>\n",
       "      <td>1.199512e+09</td>\n",
       "      <td>737438.61</td>\n",
       "      <td>87</td>\n",
       "      <td>3.748475e+08</td>\n",
       "      <td>2014</td>\n",
       "      <td>Vehicles other than railway or tramway rolling...</td>\n",
       "    </tr>\n",
       "    <tr>\n",
       "      <th>3</th>\n",
       "      <td>2709000000</td>\n",
       "      <td>petroleum oils and oils obtained from bitumino...</td>\n",
       "      <td>1.149418e+09</td>\n",
       "      <td>3857276.603</td>\n",
       "      <td>27</td>\n",
       "      <td>3.591932e+08</td>\n",
       "      <td>2014</td>\n",
       "      <td>mineral products</td>\n",
       "    </tr>\n",
       "    <tr>\n",
       "      <th>4</th>\n",
       "      <td>8502399000</td>\n",
       "      <td>other generating sets : other: other</td>\n",
       "      <td>9.072265e+08</td>\n",
       "      <td>13009081.13</td>\n",
       "      <td>85</td>\n",
       "      <td>2.835083e+08</td>\n",
       "      <td>2014</td>\n",
       "      <td>Electrical machinery and equipment and parts t...</td>\n",
       "    </tr>\n",
       "    <tr>\n",
       "      <th>5</th>\n",
       "      <td>8708990000</td>\n",
       "      <td>parts and accessories, nes, for vehicles of 87...</td>\n",
       "      <td>7.215130e+08</td>\n",
       "      <td>3282918.06</td>\n",
       "      <td>87</td>\n",
       "      <td>2.254728e+08</td>\n",
       "      <td>2014</td>\n",
       "      <td>Vehicles other than railway or tramway rolling...</td>\n",
       "    </tr>\n",
       "    <tr>\n",
       "      <th>...</th>\n",
       "      <td>...</td>\n",
       "      <td>...</td>\n",
       "      <td>...</td>\n",
       "      <td>...</td>\n",
       "      <td>...</td>\n",
       "      <td>...</td>\n",
       "      <td>...</td>\n",
       "      <td>...</td>\n",
       "    </tr>\n",
       "    <tr>\n",
       "      <th>196</th>\n",
       "      <td>6304911000</td>\n",
       "      <td>mosquito net whether or not treated</td>\n",
       "      <td>8.441190e+07</td>\n",
       "      <td>6063705.92</td>\n",
       "      <td>63</td>\n",
       "      <td>2.239043e+07</td>\n",
       "      <td>2015</td>\n",
       "      <td>Textiles and textile articles</td>\n",
       "    </tr>\n",
       "    <tr>\n",
       "      <th>197</th>\n",
       "      <td>8544499000</td>\n",
       "      <td>other electric conductors, for a voltage not e...</td>\n",
       "      <td>8.376713e+07</td>\n",
       "      <td>9270795.14</td>\n",
       "      <td>85</td>\n",
       "      <td>2.221940e+07</td>\n",
       "      <td>2015</td>\n",
       "      <td>Electrical machinery and equipment and parts t...</td>\n",
       "    </tr>\n",
       "    <tr>\n",
       "      <th>198</th>\n",
       "      <td>9030400000</td>\n",
       "      <td>measuring/checking instruments/apparatus for t...</td>\n",
       "      <td>8.339540e+07</td>\n",
       "      <td>285287.34</td>\n",
       "      <td>90</td>\n",
       "      <td>2.212080e+07</td>\n",
       "      <td>2015</td>\n",
       "      <td>Optical, photographic, cinematographic, measur...</td>\n",
       "    </tr>\n",
       "    <tr>\n",
       "      <th>199</th>\n",
       "      <td>3902100000</td>\n",
       "      <td>polypropylene, in primary forms</td>\n",
       "      <td>8.269743e+07</td>\n",
       "      <td>16583945.01</td>\n",
       "      <td>39</td>\n",
       "      <td>2.193566e+07</td>\n",
       "      <td>2015</td>\n",
       "      <td>Plastics and articles thereof; rubber and arti...</td>\n",
       "    </tr>\n",
       "    <tr>\n",
       "      <th>200</th>\n",
       "      <td>1001190000</td>\n",
       "      <td>durum wheat, other</td>\n",
       "      <td>8.182551e+07</td>\n",
       "      <td>74264844.87</td>\n",
       "      <td>10</td>\n",
       "      <td>2.170438e+07</td>\n",
       "      <td>2015</td>\n",
       "      <td>vegetable products</td>\n",
       "    </tr>\n",
       "  </tbody>\n",
       "</table>\n",
       "<p>200 rows × 8 columns</p>\n",
       "</div>"
      ],
      "text/plain": [
       "        hs code                              items and description  \\\n",
       "1    2523100000                                    cement clinkers   \n",
       "2    8705900010      other special purpose motor vehicle, nes, new   \n",
       "3    2709000000  petroleum oils and oils obtained from bitumino...   \n",
       "4    8502399000               other generating sets : other: other   \n",
       "5    8708990000  parts and accessories, nes, for vehicles of 87...   \n",
       "..          ...                                                ...   \n",
       "196  6304911000                mosquito net whether or not treated   \n",
       "197  8544499000  other electric conductors, for a voltage not e...   \n",
       "198  9030400000  measuring/checking instruments/apparatus for t...   \n",
       "199  3902100000                    polypropylene, in primary forms   \n",
       "200  1001190000                                 durum wheat, other   \n",
       "\n",
       "     custom value (ghs) netweight(kgs)  hs head code  custom value (usd)  \\\n",
       "1          1.646138e+09     3866159818            25        5.144182e+08   \n",
       "2          1.199512e+09      737438.61            87        3.748475e+08   \n",
       "3          1.149418e+09    3857276.603            27        3.591932e+08   \n",
       "4          9.072265e+08    13009081.13            85        2.835083e+08   \n",
       "5          7.215130e+08     3282918.06            87        2.254728e+08   \n",
       "..                  ...            ...           ...                 ...   \n",
       "196        8.441190e+07     6063705.92            63        2.239043e+07   \n",
       "197        8.376713e+07     9270795.14            85        2.221940e+07   \n",
       "198        8.339540e+07      285287.34            90        2.212080e+07   \n",
       "199        8.269743e+07    16583945.01            39        2.193566e+07   \n",
       "200        8.182551e+07    74264844.87            10        2.170438e+07   \n",
       "\n",
       "     year                                           industry  \n",
       "1    2014                                   mineral products  \n",
       "2    2014  Vehicles other than railway or tramway rolling...  \n",
       "3    2014                                   mineral products  \n",
       "4    2014  Electrical machinery and equipment and parts t...  \n",
       "5    2014  Vehicles other than railway or tramway rolling...  \n",
       "..    ...                                                ...  \n",
       "196  2015                      Textiles and textile articles  \n",
       "197  2015  Electrical machinery and equipment and parts t...  \n",
       "198  2015  Optical, photographic, cinematographic, measur...  \n",
       "199  2015  Plastics and articles thereof; rubber and arti...  \n",
       "200  2015                                 vegetable products  \n",
       "\n",
       "[200 rows x 8 columns]"
      ]
     },
     "execution_count": 73,
     "metadata": {},
     "output_type": "execute_result"
    }
   ],
   "source": [
    "imp"
   ]
  },
  {
   "cell_type": "code",
   "execution_count": 74,
   "metadata": {
    "tags": []
   },
   "outputs": [
    {
     "data": {
      "text/html": [
       "<div>\n",
       "<style scoped>\n",
       "    .dataframe tbody tr th:only-of-type {\n",
       "        vertical-align: middle;\n",
       "    }\n",
       "\n",
       "    .dataframe tbody tr th {\n",
       "        vertical-align: top;\n",
       "    }\n",
       "\n",
       "    .dataframe thead th {\n",
       "        text-align: right;\n",
       "    }\n",
       "</style>\n",
       "<table border=\"1\" class=\"dataframe\">\n",
       "  <thead>\n",
       "    <tr style=\"text-align: right;\">\n",
       "      <th></th>\n",
       "      <th>hs code</th>\n",
       "      <th>items and description</th>\n",
       "      <th>custom value (ghs)</th>\n",
       "      <th>netweight(kgs)</th>\n",
       "      <th>hs head code</th>\n",
       "      <th>custom value (usd)</th>\n",
       "      <th>year</th>\n",
       "      <th>industry</th>\n",
       "    </tr>\n",
       "  </thead>\n",
       "  <tbody>\n",
       "    <tr>\n",
       "      <th>1</th>\n",
       "      <td>2523100000</td>\n",
       "      <td>Cement clinkers</td>\n",
       "      <td>1.646138e+09</td>\n",
       "      <td>3866159818</td>\n",
       "      <td>25</td>\n",
       "      <td>5.144182e+08</td>\n",
       "      <td>2014</td>\n",
       "      <td>Mineral products</td>\n",
       "    </tr>\n",
       "    <tr>\n",
       "      <th>2</th>\n",
       "      <td>8705900010</td>\n",
       "      <td>Other special purpose motor vehicle, nes, new</td>\n",
       "      <td>1.199512e+09</td>\n",
       "      <td>737438.61</td>\n",
       "      <td>87</td>\n",
       "      <td>3.748475e+08</td>\n",
       "      <td>2014</td>\n",
       "      <td>Vehicles other than railway or tramway rolling...</td>\n",
       "    </tr>\n",
       "    <tr>\n",
       "      <th>3</th>\n",
       "      <td>2709000000</td>\n",
       "      <td>Petroleum oils and oils obtained from bitumino...</td>\n",
       "      <td>1.149418e+09</td>\n",
       "      <td>3857276.603</td>\n",
       "      <td>27</td>\n",
       "      <td>3.591932e+08</td>\n",
       "      <td>2014</td>\n",
       "      <td>Mineral products</td>\n",
       "    </tr>\n",
       "    <tr>\n",
       "      <th>4</th>\n",
       "      <td>8502399000</td>\n",
       "      <td>Other generating sets : other: other</td>\n",
       "      <td>9.072265e+08</td>\n",
       "      <td>13009081.13</td>\n",
       "      <td>85</td>\n",
       "      <td>2.835083e+08</td>\n",
       "      <td>2014</td>\n",
       "      <td>Electrical machinery and equipment and parts t...</td>\n",
       "    </tr>\n",
       "    <tr>\n",
       "      <th>5</th>\n",
       "      <td>8708990000</td>\n",
       "      <td>Parts and accessories, nes, for vehicles of 87...</td>\n",
       "      <td>7.215130e+08</td>\n",
       "      <td>3282918.06</td>\n",
       "      <td>87</td>\n",
       "      <td>2.254728e+08</td>\n",
       "      <td>2014</td>\n",
       "      <td>Vehicles other than railway or tramway rolling...</td>\n",
       "    </tr>\n",
       "    <tr>\n",
       "      <th>...</th>\n",
       "      <td>...</td>\n",
       "      <td>...</td>\n",
       "      <td>...</td>\n",
       "      <td>...</td>\n",
       "      <td>...</td>\n",
       "      <td>...</td>\n",
       "      <td>...</td>\n",
       "      <td>...</td>\n",
       "    </tr>\n",
       "    <tr>\n",
       "      <th>196</th>\n",
       "      <td>6304911000</td>\n",
       "      <td>Mosquito net whether or not treated</td>\n",
       "      <td>8.441190e+07</td>\n",
       "      <td>6063705.92</td>\n",
       "      <td>63</td>\n",
       "      <td>2.239043e+07</td>\n",
       "      <td>2015</td>\n",
       "      <td>Textiles and textile articles</td>\n",
       "    </tr>\n",
       "    <tr>\n",
       "      <th>197</th>\n",
       "      <td>8544499000</td>\n",
       "      <td>Other electric conductors, for a voltage not e...</td>\n",
       "      <td>8.376713e+07</td>\n",
       "      <td>9270795.14</td>\n",
       "      <td>85</td>\n",
       "      <td>2.221940e+07</td>\n",
       "      <td>2015</td>\n",
       "      <td>Electrical machinery and equipment and parts t...</td>\n",
       "    </tr>\n",
       "    <tr>\n",
       "      <th>198</th>\n",
       "      <td>9030400000</td>\n",
       "      <td>Measuring/checking instruments/apparatus for t...</td>\n",
       "      <td>8.339540e+07</td>\n",
       "      <td>285287.34</td>\n",
       "      <td>90</td>\n",
       "      <td>2.212080e+07</td>\n",
       "      <td>2015</td>\n",
       "      <td>Optical, photographic, cinematographic, measur...</td>\n",
       "    </tr>\n",
       "    <tr>\n",
       "      <th>199</th>\n",
       "      <td>3902100000</td>\n",
       "      <td>Polypropylene, in primary forms</td>\n",
       "      <td>8.269743e+07</td>\n",
       "      <td>16583945.01</td>\n",
       "      <td>39</td>\n",
       "      <td>2.193566e+07</td>\n",
       "      <td>2015</td>\n",
       "      <td>Plastics and articles thereof; rubber and arti...</td>\n",
       "    </tr>\n",
       "    <tr>\n",
       "      <th>200</th>\n",
       "      <td>1001190000</td>\n",
       "      <td>Durum wheat, other</td>\n",
       "      <td>8.182551e+07</td>\n",
       "      <td>74264844.87</td>\n",
       "      <td>10</td>\n",
       "      <td>2.170438e+07</td>\n",
       "      <td>2015</td>\n",
       "      <td>Vegetable products</td>\n",
       "    </tr>\n",
       "  </tbody>\n",
       "</table>\n",
       "<p>200 rows × 8 columns</p>\n",
       "</div>"
      ],
      "text/plain": [
       "        hs code                              items and description  \\\n",
       "1    2523100000                                    Cement clinkers   \n",
       "2    8705900010      Other special purpose motor vehicle, nes, new   \n",
       "3    2709000000  Petroleum oils and oils obtained from bitumino...   \n",
       "4    8502399000               Other generating sets : other: other   \n",
       "5    8708990000  Parts and accessories, nes, for vehicles of 87...   \n",
       "..          ...                                                ...   \n",
       "196  6304911000                Mosquito net whether or not treated   \n",
       "197  8544499000  Other electric conductors, for a voltage not e...   \n",
       "198  9030400000  Measuring/checking instruments/apparatus for t...   \n",
       "199  3902100000                    Polypropylene, in primary forms   \n",
       "200  1001190000                                 Durum wheat, other   \n",
       "\n",
       "     custom value (ghs) netweight(kgs)  hs head code  custom value (usd)  \\\n",
       "1          1.646138e+09     3866159818            25        5.144182e+08   \n",
       "2          1.199512e+09      737438.61            87        3.748475e+08   \n",
       "3          1.149418e+09    3857276.603            27        3.591932e+08   \n",
       "4          9.072265e+08    13009081.13            85        2.835083e+08   \n",
       "5          7.215130e+08     3282918.06            87        2.254728e+08   \n",
       "..                  ...            ...           ...                 ...   \n",
       "196        8.441190e+07     6063705.92            63        2.239043e+07   \n",
       "197        8.376713e+07     9270795.14            85        2.221940e+07   \n",
       "198        8.339540e+07      285287.34            90        2.212080e+07   \n",
       "199        8.269743e+07    16583945.01            39        2.193566e+07   \n",
       "200        8.182551e+07    74264844.87            10        2.170438e+07   \n",
       "\n",
       "     year                                           industry  \n",
       "1    2014                                   Mineral products  \n",
       "2    2014  Vehicles other than railway or tramway rolling...  \n",
       "3    2014                                   Mineral products  \n",
       "4    2014  Electrical machinery and equipment and parts t...  \n",
       "5    2014  Vehicles other than railway or tramway rolling...  \n",
       "..    ...                                                ...  \n",
       "196  2015                      Textiles and textile articles  \n",
       "197  2015  Electrical machinery and equipment and parts t...  \n",
       "198  2015  Optical, photographic, cinematographic, measur...  \n",
       "199  2015  Plastics and articles thereof; rubber and arti...  \n",
       "200  2015                                 Vegetable products  \n",
       "\n",
       "[200 rows x 8 columns]"
      ]
     },
     "execution_count": 74,
     "metadata": {},
     "output_type": "execute_result"
    }
   ],
   "source": [
    "columns_to_capitalize = ['items and description', 'industry']\n",
    "\n",
    "imp[columns_to_capitalize] = imp[columns_to_capitalize].apply(lambda x: x.str.capitalize())\n",
    "\n",
    "imp"
   ]
  },
  {
   "cell_type": "code",
   "execution_count": 75,
   "metadata": {
    "tags": []
   },
   "outputs": [],
   "source": [
    "imp = imp.rename(columns = {'hs code': 'HS Code'})"
   ]
  },
  {
   "cell_type": "code",
   "execution_count": 76,
   "metadata": {
    "tags": []
   },
   "outputs": [],
   "source": [
    "imp = imp.rename(columns = {'items and description': 'Items and Description'})"
   ]
  },
  {
   "cell_type": "code",
   "execution_count": 77,
   "metadata": {
    "tags": []
   },
   "outputs": [],
   "source": [
    "imp = imp.rename(columns = {'custom value (ghs)': 'Custom Value (ghs)'})"
   ]
  },
  {
   "cell_type": "code",
   "execution_count": 78,
   "metadata": {
    "tags": []
   },
   "outputs": [],
   "source": [
    "imp = imp.rename(columns = {'netweight(kgs)': 'Net Weight (kgs)'})"
   ]
  },
  {
   "cell_type": "code",
   "execution_count": 79,
   "metadata": {
    "tags": []
   },
   "outputs": [],
   "source": [
    "imp = imp.rename(columns = {'year': 'Year'})"
   ]
  },
  {
   "cell_type": "code",
   "execution_count": 80,
   "metadata": {
    "tags": []
   },
   "outputs": [],
   "source": [
    "imp = imp.rename(columns = {'hs head code': 'HS Chapter Code'})"
   ]
  },
  {
   "cell_type": "code",
   "execution_count": 81,
   "metadata": {
    "tags": []
   },
   "outputs": [],
   "source": [
    "imp = imp.rename(columns = {'custom value (usd)': 'Custom Value (USD)'})"
   ]
  },
  {
   "cell_type": "code",
   "execution_count": 82,
   "metadata": {
    "tags": []
   },
   "outputs": [],
   "source": [
    "imp = imp.rename(columns = {'industry' : 'Industry'})"
   ]
  },
  {
   "cell_type": "code",
   "execution_count": 83,
   "metadata": {
    "tags": []
   },
   "outputs": [],
   "source": [
    "leading_digits = imp['Custom Value (USD)'].astype(str).str[0].astype(int)"
   ]
  },
  {
   "cell_type": "code",
   "execution_count": 85,
   "metadata": {
    "tags": []
   },
   "outputs": [
    {
     "ename": "NameError",
     "evalue": "name 'benfords_law' is not defined",
     "output_type": "error",
     "traceback": [
      "\u001b[0;31m---------------------------------------------------------------------------\u001b[0m",
      "\u001b[0;31mNameError\u001b[0m                                 Traceback (most recent call last)",
      "Cell \u001b[0;32mIn[85], line 3\u001b[0m\n\u001b[1;32m      1\u001b[0m \u001b[38;5;66;03m# Plot actual vs. expected distribution\u001b[39;00m\n\u001b[1;32m      2\u001b[0m plt\u001b[38;5;241m.\u001b[39mbar(\u001b[38;5;28mrange\u001b[39m(\u001b[38;5;241m1\u001b[39m, \u001b[38;5;241m10\u001b[39m), np\u001b[38;5;241m.\u001b[39mhistogram(leading_digits, bins\u001b[38;5;241m=\u001b[39mnp\u001b[38;5;241m.\u001b[39marange(\u001b[38;5;241m1\u001b[39m, \u001b[38;5;241m11\u001b[39m))[\u001b[38;5;241m0\u001b[39m], alpha\u001b[38;5;241m=\u001b[39m\u001b[38;5;241m0.5\u001b[39m, label\u001b[38;5;241m=\u001b[39m\u001b[38;5;124m'\u001b[39m\u001b[38;5;124mActual\u001b[39m\u001b[38;5;124m'\u001b[39m)\n\u001b[0;32m----> 3\u001b[0m plt\u001b[38;5;241m.\u001b[39mplot(\u001b[38;5;28mrange\u001b[39m(\u001b[38;5;241m1\u001b[39m, \u001b[38;5;241m10\u001b[39m), benfords_law, \u001b[38;5;124m'\u001b[39m\u001b[38;5;124mro-\u001b[39m\u001b[38;5;124m'\u001b[39m, label\u001b[38;5;241m=\u001b[39m\u001b[38;5;124m\"\u001b[39m\u001b[38;5;124mBenford\u001b[39m\u001b[38;5;124m'\u001b[39m\u001b[38;5;124ms Law\u001b[39m\u001b[38;5;124m\"\u001b[39m)\n\u001b[1;32m      4\u001b[0m plt\u001b[38;5;241m.\u001b[39mtitle(\u001b[38;5;124m\"\u001b[39m\u001b[38;5;124mBenford\u001b[39m\u001b[38;5;124m'\u001b[39m\u001b[38;5;124ms Law Analysis\u001b[39m\u001b[38;5;124m\"\u001b[39m)\n\u001b[1;32m      5\u001b[0m plt\u001b[38;5;241m.\u001b[39mxlabel(\u001b[38;5;124m'\u001b[39m\u001b[38;5;124mLeading Digit\u001b[39m\u001b[38;5;124m'\u001b[39m)\n",
      "\u001b[0;31mNameError\u001b[0m: name 'benfords_law' is not defined"
     ]
    },
    {
     "data": {
      "image/png": "[encoded data removed]",
      "text/plain": [
       "<Figure size 640x480 with 1 Axes>"
      ]
     },
     "metadata": {},
     "output_type": "display_data"
    }
   ],
   "source": [
    "# Plot actual vs. expected distribution\n",
    "plt.bar(range(1, 10), np.histogram(leading_digits, bins=np.arange(1, 11))[0], alpha=0.5, label='Actual')\n",
    "plt.plot(range(1, 10), benfords_law, 'ro-', label=\"Benford's Law\")\n",
    "plt.title(\"Benford's Law Analysis\")\n",
    "plt.xlabel('Leading Digit')\n",
    "plt.ylabel('Frequency')\n",
    "plt.legend()\n",
    "plt.show()"
   ]
  },
  {
   "cell_type": "code",
   "execution_count": 88,
   "metadata": {
    "tags": []
   },
   "outputs": [
    {
     "name": "stdout",
     "output_type": "stream",
     "text": [
      "Digit 1: 30.10%\n",
      "Digit 2: 17.61%\n",
      "Digit 3: 12.49%\n",
      "Digit 4: 9.69%\n",
      "Digit 5: 7.92%\n",
      "Digit 6: 6.69%\n",
      "Digit 7: 5.80%\n",
      "Digit 8: 5.12%\n",
      "Digit 9: 4.58%\n"
     ]
    }
   ],
   "source": [
    "benfords_law = np.log10(1 + 1 / np.arange(1, 10))\n",
    "benfords_law_percentages = benfords_law / benfords_law.sum() * 100\n",
    "for digit, percentage in zip(range(1, 10), benfords_law_percentages):\n",
    "    print(f\"Digit {digit}: {percentage:.2f}%\")"
   ]
  },
  {
   "cell_type": "code",
   "execution_count": 89,
   "metadata": {
    "tags": []
   },
   "outputs": [
    {
     "name": "stderr",
     "output_type": "stream",
     "text": [
      "/var/folders/tg/8plgdk2x1ydbvdy8l_qmdfv80000gn/T/ipykernel_1081/1326519841.py:22: UserWarning: Tight layout not applied. The bottom and top margins cannot be made large enough to accommodate all axes decorations.\n",
      "  plt.tight_layout()\n"
     ]
    },
    {
     "data": {
      "image/png": "[encoded data removed]",
      "text/plain": [
       "<Figure size 1000x600 with 1 Axes>"
      ]
     },
     "metadata": {},
     "output_type": "display_data"
    }
   ],
   "source": [
    "imp_2014 = imp[imp['Year'] == 2014]\n",
    "imp_2015 = imp[imp['Year'] == 2015]\n",
    "\n",
    "import_2014 = imp_2014.groupby('Industry')['Custom Value (USD)'].sum()\n",
    "import_2015 = imp_2015.groupby('Industry')['Custom Value (USD)'].sum()\n",
    "\n",
    "# Plot the data\n",
    "fig, ax = plt.subplots(figsize=(10, 6))\n",
    "\n",
    "# Bar plot for 2014 exports in blue\n",
    "ax.bar(import_2014.index, import_2014, color='purple', label='2014')\n",
    "\n",
    "# Bar plot for 2015 exports in orange\n",
    "ax.bar(import_2015.index, import_2015, color='green', label='2015')\n",
    "\n",
    "ax.set_xlabel('Industry')\n",
    "ax.set_ylabel('Custom Value (USD)')\n",
    "ax.set_title('Imports in 2014 and 2015 by Industry')\n",
    "ax.legend()\n",
    "\n",
    "plt.xticks(rotation=60, ha='right')  # Rotate x-axis labels for better readability\n",
    "plt.tight_layout()\n",
    "plt.show()"
   ]
  },
  {
   "cell_type": "code",
   "execution_count": 95,
   "metadata": {
    "tags": []
   },
   "outputs": [],
   "source": [
    "# sn.countplot(x = 'Industry', data = imp)"
   ]
  },
  {
   "cell_type": "code",
   "execution_count": 96,
   "metadata": {
    "tags": []
   },
   "outputs": [],
   "source": [
    "#sn.barplot(x = 'Industry', y = 'Custom Value (USD)', data = imp, ci = False)"
   ]
  },
  {
   "cell_type": "code",
   "execution_count": 82,
   "metadata": {
    "tags": []
   },
   "outputs": [
    {
     "data": {
      "text/html": [
       "<div>\n",
       "<style scoped>\n",
       "    .dataframe tbody tr th:only-of-type {\n",
       "        vertical-align: middle;\n",
       "    }\n",
       "\n",
       "    .dataframe tbody tr th {\n",
       "        vertical-align: top;\n",
       "    }\n",
       "\n",
       "    .dataframe thead th {\n",
       "        text-align: right;\n",
       "    }\n",
       "</style>\n",
       "<table border=\"1\" class=\"dataframe\">\n",
       "  <thead>\n",
       "    <tr style=\"text-align: right;\">\n",
       "      <th></th>\n",
       "      <th>HS Code</th>\n",
       "      <th>Items and Description</th>\n",
       "      <th>Custom Value (ghs)</th>\n",
       "      <th>Net Weight (kgs)</th>\n",
       "      <th>HS Chapter Code</th>\n",
       "      <th>Custom Value (USD)</th>\n",
       "      <th>Year</th>\n",
       "      <th>Industry</th>\n",
       "    </tr>\n",
       "  </thead>\n",
       "  <tbody>\n",
       "    <tr>\n",
       "      <th>1</th>\n",
       "      <td>2523100000</td>\n",
       "      <td>Cement clinkers</td>\n",
       "      <td>1.646138e+09</td>\n",
       "      <td>3866159818</td>\n",
       "      <td>25</td>\n",
       "      <td>5.144182e+08</td>\n",
       "      <td>2014</td>\n",
       "      <td>Mineral products</td>\n",
       "    </tr>\n",
       "    <tr>\n",
       "      <th>2</th>\n",
       "      <td>8705900010</td>\n",
       "      <td>Other special purpose motor vehicle, nes, new</td>\n",
       "      <td>1.199512e+09</td>\n",
       "      <td>737438.61</td>\n",
       "      <td>87</td>\n",
       "      <td>3.748475e+08</td>\n",
       "      <td>2014</td>\n",
       "      <td>Vehicles other than railway or tramway rolling...</td>\n",
       "    </tr>\n",
       "    <tr>\n",
       "      <th>3</th>\n",
       "      <td>2709000000</td>\n",
       "      <td>Petroleum oils and oils obtained from bitumino...</td>\n",
       "      <td>1.149418e+09</td>\n",
       "      <td>3857276.603</td>\n",
       "      <td>27</td>\n",
       "      <td>3.591932e+08</td>\n",
       "      <td>2014</td>\n",
       "      <td>Mineral products</td>\n",
       "    </tr>\n",
       "    <tr>\n",
       "      <th>4</th>\n",
       "      <td>8502399000</td>\n",
       "      <td>Other generating sets : other: other</td>\n",
       "      <td>9.072265e+08</td>\n",
       "      <td>13009081.13</td>\n",
       "      <td>85</td>\n",
       "      <td>2.835083e+08</td>\n",
       "      <td>2014</td>\n",
       "      <td>Electrical machinery and equipment and parts t...</td>\n",
       "    </tr>\n",
       "    <tr>\n",
       "      <th>5</th>\n",
       "      <td>8708990000</td>\n",
       "      <td>Parts and accessories, nes, for vehicles of 87...</td>\n",
       "      <td>7.215130e+08</td>\n",
       "      <td>3282918.06</td>\n",
       "      <td>87</td>\n",
       "      <td>2.254728e+08</td>\n",
       "      <td>2014</td>\n",
       "      <td>Vehicles other than railway or tramway rolling...</td>\n",
       "    </tr>\n",
       "    <tr>\n",
       "      <th>...</th>\n",
       "      <td>...</td>\n",
       "      <td>...</td>\n",
       "      <td>...</td>\n",
       "      <td>...</td>\n",
       "      <td>...</td>\n",
       "      <td>...</td>\n",
       "      <td>...</td>\n",
       "      <td>...</td>\n",
       "    </tr>\n",
       "    <tr>\n",
       "      <th>196</th>\n",
       "      <td>6304911000</td>\n",
       "      <td>Mosquito net whether or not treated</td>\n",
       "      <td>8.441190e+07</td>\n",
       "      <td>6063705.92</td>\n",
       "      <td>63</td>\n",
       "      <td>2.239043e+07</td>\n",
       "      <td>2015</td>\n",
       "      <td>Textiles and textile articles</td>\n",
       "    </tr>\n",
       "    <tr>\n",
       "      <th>197</th>\n",
       "      <td>8544499000</td>\n",
       "      <td>Other electric conductors, for a voltage not e...</td>\n",
       "      <td>8.376713e+07</td>\n",
       "      <td>9270795.14</td>\n",
       "      <td>85</td>\n",
       "      <td>2.221940e+07</td>\n",
       "      <td>2015</td>\n",
       "      <td>Electrical machinery and equipment and parts t...</td>\n",
       "    </tr>\n",
       "    <tr>\n",
       "      <th>198</th>\n",
       "      <td>9030400000</td>\n",
       "      <td>Measuring/checking instruments/apparatus for t...</td>\n",
       "      <td>8.339540e+07</td>\n",
       "      <td>285287.34</td>\n",
       "      <td>90</td>\n",
       "      <td>2.212080e+07</td>\n",
       "      <td>2015</td>\n",
       "      <td>Optical, photographic, cinematographic, measur...</td>\n",
       "    </tr>\n",
       "    <tr>\n",
       "      <th>199</th>\n",
       "      <td>3902100000</td>\n",
       "      <td>Polypropylene, in primary forms</td>\n",
       "      <td>8.269743e+07</td>\n",
       "      <td>16583945.01</td>\n",
       "      <td>39</td>\n",
       "      <td>2.193566e+07</td>\n",
       "      <td>2015</td>\n",
       "      <td>Plastics and articles thereof; rubber and arti...</td>\n",
       "    </tr>\n",
       "    <tr>\n",
       "      <th>200</th>\n",
       "      <td>1001190000</td>\n",
       "      <td>Durum wheat, other</td>\n",
       "      <td>8.182551e+07</td>\n",
       "      <td>74264844.87</td>\n",
       "      <td>10</td>\n",
       "      <td>2.170438e+07</td>\n",
       "      <td>2015</td>\n",
       "      <td>Vegetable products</td>\n",
       "    </tr>\n",
       "  </tbody>\n",
       "</table>\n",
       "<p>200 rows × 8 columns</p>\n",
       "</div>"
      ],
      "text/plain": [
       "        HS Code                              Items and Description  \\\n",
       "1    2523100000                                    Cement clinkers   \n",
       "2    8705900010      Other special purpose motor vehicle, nes, new   \n",
       "3    2709000000  Petroleum oils and oils obtained from bitumino...   \n",
       "4    8502399000               Other generating sets : other: other   \n",
       "5    8708990000  Parts and accessories, nes, for vehicles of 87...   \n",
       "..          ...                                                ...   \n",
       "196  6304911000                Mosquito net whether or not treated   \n",
       "197  8544499000  Other electric conductors, for a voltage not e...   \n",
       "198  9030400000  Measuring/checking instruments/apparatus for t...   \n",
       "199  3902100000                    Polypropylene, in primary forms   \n",
       "200  1001190000                                 Durum wheat, other   \n",
       "\n",
       "     Custom Value (ghs) Net Weight (kgs)  HS Chapter Code  Custom Value (USD)  \\\n",
       "1          1.646138e+09       3866159818               25        5.144182e+08   \n",
       "2          1.199512e+09        737438.61               87        3.748475e+08   \n",
       "3          1.149418e+09      3857276.603               27        3.591932e+08   \n",
       "4          9.072265e+08      13009081.13               85        2.835083e+08   \n",
       "5          7.215130e+08       3282918.06               87        2.254728e+08   \n",
       "..                  ...              ...              ...                 ...   \n",
       "196        8.441190e+07       6063705.92               63        2.239043e+07   \n",
       "197        8.376713e+07       9270795.14               85        2.221940e+07   \n",
       "198        8.339540e+07        285287.34               90        2.212080e+07   \n",
       "199        8.269743e+07      16583945.01               39        2.193566e+07   \n",
       "200        8.182551e+07      74264844.87               10        2.170438e+07   \n",
       "\n",
       "     Year                                           Industry  \n",
       "1    2014                                   Mineral products  \n",
       "2    2014  Vehicles other than railway or tramway rolling...  \n",
       "3    2014                                   Mineral products  \n",
       "4    2014  Electrical machinery and equipment and parts t...  \n",
       "5    2014  Vehicles other than railway or tramway rolling...  \n",
       "..    ...                                                ...  \n",
       "196  2015                      Textiles and textile articles  \n",
       "197  2015  Electrical machinery and equipment and parts t...  \n",
       "198  2015  Optical, photographic, cinematographic, measur...  \n",
       "199  2015  Plastics and articles thereof; rubber and arti...  \n",
       "200  2015                                 Vegetable products  \n",
       "\n",
       "[200 rows x 8 columns]"
      ]
     },
     "execution_count": 82,
     "metadata": {},
     "output_type": "execute_result"
    }
   ],
   "source": [
    "imp"
   ]
  },
  {
   "cell_type": "code",
   "execution_count": 86,
   "metadata": {
    "tags": []
   },
   "outputs": [
    {
     "name": "stdout",
     "output_type": "stream",
     "text": [
      "The industry that makes the most by importation is: Mineral products\n"
     ]
    }
   ],
   "source": [
    "industry_totals = imp.groupby('Industry')['Custom Value (USD)'].sum()\n",
    "max_industry = industry_totals.idxmax()\n",
    "print(f\"The industry that makes the most by importation is: {max_industry}\")"
   ]
  },
  {
   "cell_type": "code",
   "execution_count": 87,
   "metadata": {
    "tags": []
   },
   "outputs": [
    {
     "data": {
      "image/png": "[encoded data removed]",
      "text/plain": [
       "<Figure size 640x480 with 1 Axes>"
      ]
     },
     "metadata": {},
     "output_type": "display_data"
    }
   ],
   "source": [
    "Q1 = imp['Custom Value (USD)'].quantile(0.25)\n",
    "Q3 = imp['Custom Value (USD)'].quantile(0.75)\n",
    "IQR = Q3 - Q1\n",
    "lower_bound = Q1 - 1.5 * IQR\n",
    "upper_bound = Q3 + 1.5 * IQR\n",
    "filtered_imp = imp[(imp['Custom Value (USD)'] >= lower_bound) & (imp['Custom Value (USD)'] <= upper_bound)]\n",
    "\n",
    "plt.boxplot(filtered_imp['Custom Value (USD)'])\n",
    "plt.title('Boxplot without Outliers')\n",
    "plt.ylabel('Custom Value (USD)')\n",
    "plt.show()\n"
   ]
  },
  {
   "cell_type": "code",
   "execution_count": 89,
   "metadata": {
    "tags": []
   },
   "outputs": [
    {
     "data": {
      "text/plain": [
       "Vehicles other than railway or tramway rolling stock and parts and accessories thereof                                                                                                           34\n",
       "Electrical machinery and equipment and parts thereof; sound recorders and reproducers, television image and sound recorders and reproducers, and parts and accessories of such articles          26\n",
       "Nuclear reactors, boilers, machinery, and mechanical appliances; parts thereof                                                                                                                   26\n",
       "Metals and articles thereof                                                                                                                                                                      19\n",
       "Products of chemical or allied industries                                                                                                                                                        18\n",
       "Live animals, animals products                                                                                                                                                                   13\n",
       "Mineral products                                                                                                                                                                                 12\n",
       "Vegetable products                                                                                                                                                                               12\n",
       "Plastics and articles thereof; rubber and articles thereof                                                                                                                                        7\n",
       "Prepared foodstuff, brevages, spirits, vinegar, tobacco and manufactured tobacco substitutes                                                                                                      6\n",
       "Miscellaneous manufactured articles                                                                                                                                                               6\n",
       "Raw hides and skins, leather, furskins, and articles thereof; saddlery and harness; travel goods, handbags, and similar containers; articles of animal gut (other than silk-worm gut)             5\n",
       "Textiles and textile articles                                                                                                                                                                     5\n",
       "Optical, photographic, cinematographic, measuring, checking, precision, medical or surgical instruments and apparatus; clocks and watches; musical instruments; parts and accessories thereof     4\n",
       "Animal or vegetable fats and oils and their respective cleavage products, prepared edible fats animal or vegetable waste                                                                          3\n",
       "Articles of stone, plaster, cement, asbestos, mica, or similar materials; ceramic products; glass and glassware                                                                                   2\n",
       "Wood and articles of wood; wood charcoal; cork and articles of cork; manufactures of straw, of esparto, or of other plaiting materials; basketware and wickerwork                                 1\n",
       "Ships, boats, and floating structures                                                                                                                                                             1\n",
       "Name: Industry, dtype: int64"
      ]
     },
     "execution_count": 89,
     "metadata": {},
     "output_type": "execute_result"
    }
   ],
   "source": [
    "imp['Industry'].value_counts()"
   ]
  },
  {
   "cell_type": "code",
   "execution_count": null,
   "metadata": {},
   "outputs": [],
   "source": []
  },
  {
   "cell_type": "code",
   "execution_count": null,
   "metadata": {},
   "outputs": [],
   "source": []
  }
 ],
 "metadata": {
  "kernelspec": {
   "display_name": "Python 3 (ipykernel)",
   "language": "python",
   "name": "python3"
  },
  "language_info": {
   "codemirror_mode": {
    "name": "ipython",
    "version": 3
   },
   "file_extension": ".py",
   "mimetype": "text/x-python",
   "name": "python",
   "nbconvert_exporter": "python",
   "pygments_lexer": "ipython3",
   "version": "3.11.4"
  }
 },
 "nbformat": 4,
 "nbformat_minor": 4
}
